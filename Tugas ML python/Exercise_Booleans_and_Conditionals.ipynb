{
  "metadata": {
    "kernelspec": {
      "display_name": "Python 3",
      "language": "python",
      "name": "python3"
    },
    "language_info": {
      "name": "python",
      "version": "3.10.12",
      "mimetype": "text/x-python",
      "codemirror_mode": {
        "name": "ipython",
        "version": 3
      },
      "pygments_lexer": "ipython3",
      "nbconvert_exporter": "python",
      "file_extension": ".py"
    },
    "learntools_metadata": {
      "lesson_index": 2,
      "type": "exercise"
    },
    "kaggle": {
      "accelerator": "none",
      "dataSources": [],
      "isInternetEnabled": false,
      "language": "python",
      "sourceType": "notebook",
      "isGpuEnabled": false
    },
    "colab": {
      "name": "Exercise: Booleans and Conditionals",
      "provenance": []
    }
  },
  "nbformat_minor": 0,
  "nbformat": 4,
  "cells": [
    {
      "cell_type": "markdown",
      "source": [
        "**This notebook is an exercise in the [Python](https://www.kaggle.com/learn/python) course.  You can reference the tutorial at [this link](https://www.kaggle.com/colinmorris/booleans-and-conditionals).**\n",
        "\n",
        "---\n"
      ],
      "metadata": {
        "id": "ceNBV8Sq-aGE"
      }
    },
    {
      "cell_type": "markdown",
      "source": [
        "In this exercise, you'll put to work what you have learned about booleans and conditionals.\n",
        "\n",
        "To get started, **run the setup code below** before writing your own code (and if you leave this notebook and come back later, don't forget to run the setup code again)."
      ],
      "metadata": {
        "id": "aO6AaiG8-aGN"
      }
    },
    {
      "cell_type": "code",
      "source": [
        "from learntools.core import binder; binder.bind(globals())\n",
        "from learntools.python.ex3 import *\n",
        "print('Setup complete.')"
      ],
      "metadata": {
        "trusted": true,
        "execution": {
          "iopub.status.busy": "2025-02-21T09:05:42.781781Z",
          "iopub.execute_input": "2025-02-21T09:05:42.782063Z",
          "iopub.status.idle": "2025-02-21T09:05:44.667829Z",
          "shell.execute_reply.started": "2025-02-21T09:05:42.782038Z",
          "shell.execute_reply": "2025-02-21T09:05:44.666617Z"
        },
        "id": "sHdIeVD7-aGP",
        "outputId": "fb4a9450-b50b-42b5-92e7-518dea455d3b"
      },
      "outputs": [
        {
          "name": "stdout",
          "text": "Setup complete.\n",
          "output_type": "stream"
        }
      ],
      "execution_count": null
    },
    {
      "cell_type": "markdown",
      "source": [
        "# 1.\n",
        "\n",
        "Many programming languages have [`sign`](https://en.wikipedia.org/wiki/Sign_function) available as a built-in function. Python doesn't, but we can define our own!\n",
        "\n",
        "In the cell below, define a function called `sign` which takes a numerical argument and returns -1 if it's negative, 1 if it's positive, and 0 if it's 0."
      ],
      "metadata": {
        "id": "3lO60_Dz-aGX"
      }
    },
    {
      "cell_type": "code",
      "source": [
        "# Your code goes here. Define a function called 'sign'\n",
        "def sign(x):\n",
        "    if x > 0:\n",
        "        return 1\n",
        "    elif x < 0:\n",
        "        return -1\n",
        "    else:\n",
        "        return 0\n",
        "# Check your answer\n",
        "q1.check()"
      ],
      "metadata": {
        "trusted": true,
        "execution": {
          "iopub.status.busy": "2025-02-21T09:06:34.163173Z",
          "iopub.execute_input": "2025-02-21T09:06:34.163546Z",
          "iopub.status.idle": "2025-02-21T09:06:34.171464Z",
          "shell.execute_reply.started": "2025-02-21T09:06:34.163517Z",
          "shell.execute_reply": "2025-02-21T09:06:34.170562Z"
        },
        "id": "_aIrWFb2-aGY",
        "outputId": "f24457ec-9ac4-4ed2-ab1a-87c19c7c0ac8"
      },
      "outputs": [
        {
          "output_type": "display_data",
          "data": {
            "text/plain": "<IPython.core.display.Javascript object>",
            "application/javascript": "parent.postMessage({\"jupyterEvent\": \"custom.exercise_interaction\", \"data\": {\"outcomeType\": 1, \"valueTowardsCompletion\": 0.2, \"interactionType\": 1, \"questionType\": 2, \"questionId\": \"1_SignFunctionProblem\", \"learnToolsVersion\": \"0.3.4\", \"failureMessage\": \"\", \"exceptionClass\": \"\", \"trace\": \"\"}}, \"*\")"
          },
          "metadata": {}
        },
        {
          "output_type": "display_data",
          "data": {
            "text/plain": "Correct",
            "text/markdown": "<span style=\"color:#33cc33\">Correct</span>"
          },
          "metadata": {}
        }
      ],
      "execution_count": null
    },
    {
      "cell_type": "code",
      "source": [
        "#q1.solution()"
      ],
      "metadata": {
        "trusted": true,
        "execution": {
          "iopub.status.busy": "2025-02-21T09:06:31.143437Z",
          "iopub.execute_input": "2025-02-21T09:06:31.14378Z",
          "iopub.status.idle": "2025-02-21T09:06:31.147736Z",
          "shell.execute_reply.started": "2025-02-21T09:06:31.143754Z",
          "shell.execute_reply": "2025-02-21T09:06:31.146712Z"
        },
        "id": "V35hW0DJ-aGb"
      },
      "outputs": [],
      "execution_count": null
    },
    {
      "cell_type": "markdown",
      "source": [
        "# 2.\n",
        "\n",
        "We've decided to add \"logging\" to our `to_smash` function from the previous exercise."
      ],
      "metadata": {
        "id": "5JMGTRoM-aGd"
      }
    },
    {
      "cell_type": "code",
      "source": [
        "def to_smash(total_candies):\n",
        "    \"\"\"Return the number of leftover candies that must be smashed after distributing\n",
        "    the given number of candies evenly between 3 friends.\n",
        "\n",
        "    >>> to_smash(91)\n",
        "    1\n",
        "    \"\"\"\n",
        "    if total_candies == 1:\n",
        "        print(\"Splitting 1 candy\")\n",
        "    else:\n",
        "        print(\"Splitting\", total_candies, \"candies\")\n",
        "    print(\"Splitting\", total_candies, \"candy\" if total_candies == 1 else \"candies\")\n",
        "    return total_candies % 3\n",
        "\n",
        "to_smash(91)"
      ],
      "metadata": {
        "trusted": true,
        "execution": {
          "iopub.status.busy": "2025-02-21T09:09:05.988108Z",
          "iopub.execute_input": "2025-02-21T09:09:05.988489Z",
          "iopub.status.idle": "2025-02-21T09:09:05.998185Z",
          "shell.execute_reply.started": "2025-02-21T09:09:05.98846Z",
          "shell.execute_reply": "2025-02-21T09:09:05.997045Z"
        },
        "id": "Z51vjzZG-aGf",
        "outputId": "6e56af8e-d32a-4f85-efaa-b34166ba7f92"
      },
      "outputs": [
        {
          "name": "stdout",
          "text": "Splitting 91 candies\nSplitting 91 candies\n",
          "output_type": "stream"
        },
        {
          "execution_count": 11,
          "output_type": "execute_result",
          "data": {
            "text/plain": "1"
          },
          "metadata": {}
        }
      ],
      "execution_count": null
    },
    {
      "cell_type": "markdown",
      "source": [
        "What happens if we call it with `total_candies = 1`?"
      ],
      "metadata": {
        "id": "JrUPXWaS-aGh"
      }
    },
    {
      "cell_type": "code",
      "source": [
        "to_smash(1)"
      ],
      "metadata": {
        "trusted": true,
        "execution": {
          "iopub.status.busy": "2025-02-21T09:09:15.168516Z",
          "iopub.execute_input": "2025-02-21T09:09:15.168889Z",
          "iopub.status.idle": "2025-02-21T09:09:15.176696Z",
          "shell.execute_reply.started": "2025-02-21T09:09:15.168841Z",
          "shell.execute_reply": "2025-02-21T09:09:15.175649Z"
        },
        "id": "RMgYGcEC-aGi",
        "outputId": "47a2b353-c381-4ff7-b3a5-98648e168c29"
      },
      "outputs": [
        {
          "name": "stdout",
          "text": "Splitting 1 candy\nSplitting 1 candy\n",
          "output_type": "stream"
        },
        {
          "execution_count": 13,
          "output_type": "execute_result",
          "data": {
            "text/plain": "1"
          },
          "metadata": {}
        }
      ],
      "execution_count": null
    },
    {
      "cell_type": "markdown",
      "source": [
        "That isn't great grammar!\n",
        "\n",
        "Modify the definition in the cell below to correct the grammar of our print statement. (If there's only one candy, we should use the singular \"candy\" instead of the plural \"candies\")"
      ],
      "metadata": {
        "id": "F0KPjldJ-aGj"
      }
    },
    {
      "cell_type": "code",
      "source": [
        "def to_smash(total_candies):\n",
        "    \"\"\"Return the number of leftover candies that must be smashed after distributing\n",
        "    the given number of candies evenly between 3 friends.\n",
        "\n",
        "    >>> to_smash(91)\n",
        "    1\n",
        "    \"\"\"\n",
        "    if total_candies == 1:\n",
        "        print(\"Splitting 1 candy\")\n",
        "    else:\n",
        "        print(\"Splitting\", total_candies, \"candies\")\n",
        "    print(\"Splitting\", total_candies, \"candy\" if total_candies == 1 else \"candies\")\n",
        "    return total_candies % 3\n",
        "\n",
        "to_smash(91)\n",
        "to_smash(1)"
      ],
      "metadata": {
        "trusted": true,
        "execution": {
          "iopub.status.busy": "2025-02-21T09:09:28.49397Z",
          "iopub.execute_input": "2025-02-21T09:09:28.494278Z",
          "iopub.status.idle": "2025-02-21T09:09:28.503526Z",
          "shell.execute_reply.started": "2025-02-21T09:09:28.494254Z",
          "shell.execute_reply": "2025-02-21T09:09:28.501404Z"
        },
        "id": "zDitbDvj-aGk",
        "outputId": "614de112-f66f-4348-ad92-f992ca23a6fb"
      },
      "outputs": [
        {
          "name": "stdout",
          "text": "Splitting 91 candies\nSplitting 91 candies\nSplitting 1 candy\nSplitting 1 candy\n",
          "output_type": "stream"
        },
        {
          "execution_count": 14,
          "output_type": "execute_result",
          "data": {
            "text/plain": "1"
          },
          "metadata": {}
        }
      ],
      "execution_count": null
    },
    {
      "cell_type": "markdown",
      "source": [
        "To get credit for completing this problem, and to see the official answer, run the code cell below."
      ],
      "metadata": {
        "id": "0b7tk_zF-aGl"
      }
    },
    {
      "cell_type": "code",
      "source": [
        "# Check your answer (Run this code cell to receive credit!)\n",
        "q2.solution()"
      ],
      "metadata": {
        "trusted": true,
        "execution": {
          "iopub.status.busy": "2025-02-21T09:09:39.013646Z",
          "iopub.execute_input": "2025-02-21T09:09:39.013978Z",
          "iopub.status.idle": "2025-02-21T09:09:39.017895Z",
          "shell.execute_reply.started": "2025-02-21T09:09:39.013953Z",
          "shell.execute_reply": "2025-02-21T09:09:39.016743Z"
        },
        "id": "U6ffHhP7-aGl"
      },
      "outputs": [],
      "execution_count": null
    },
    {
      "cell_type": "markdown",
      "source": [
        "# 3. <span title=\"A bit spicy\" style=\"color: darkgreen \">🌶️</span>\n",
        "\n",
        "In the tutorial, we talked about deciding whether we're prepared for the weather. I said that I'm safe from today's weather if...\n",
        "- I have an umbrella...\n",
        "- or if the rain isn't too heavy and I have a hood...\n",
        "- otherwise, I'm still fine unless it's raining *and* it's a workday\n",
        "\n",
        "The function below uses our first attempt at turning this logic into a Python expression. I claimed that there was a bug in that code. Can you find it?\n",
        "\n",
        "To prove that `prepared_for_weather` is buggy, come up with a set of inputs where either:\n",
        "- the function returns `False` (but should have returned `True`), or\n",
        "- the function returned `True` (but should have returned `False`).\n",
        "\n",
        "To get credit for completing this question, your code should return a <font color='#33cc33'>Correct</font> result."
      ],
      "metadata": {
        "id": "cGk6fcMW-aGt"
      }
    },
    {
      "cell_type": "code",
      "source": [
        "def prepared_for_weather(have_umbrella, rain_level, have_hood, is_workday):\n",
        "    # Don't change this code. Our goal is just to find the bug, not fix it!\n",
        "    return have_umbrella or rain_level < 5 and have_hood or not rain_level > 0 and is_workday\n",
        "\n",
        "# Change the values of these inputs so they represent a case where prepared_for_weather\n",
        "# returns the wrong answer.\n",
        "have_umbrella = False\n",
        "rain_level = 0.0\n",
        "have_hood = False\n",
        "is_workday = False\n",
        "\n",
        "# Check what the function returns given the current values of the variables above\n",
        "actual = prepared_for_weather(have_umbrella, rain_level, have_hood, is_workday)\n",
        "print(actual)\n",
        "\n",
        "# Check your answer\n",
        "q3.check()"
      ],
      "metadata": {
        "trusted": true,
        "execution": {
          "iopub.status.busy": "2025-02-21T09:11:00.847886Z",
          "iopub.execute_input": "2025-02-21T09:11:00.848216Z",
          "iopub.status.idle": "2025-02-21T09:11:00.858046Z",
          "shell.execute_reply.started": "2025-02-21T09:11:00.848191Z",
          "shell.execute_reply": "2025-02-21T09:11:00.857159Z"
        },
        "id": "paBrc4Vn-aGu",
        "outputId": "0e68dc0b-6dcd-44c7-c9cb-8d488ce0fe16"
      },
      "outputs": [
        {
          "name": "stdout",
          "text": "False\n",
          "output_type": "stream"
        },
        {
          "output_type": "display_data",
          "data": {
            "text/plain": "<IPython.core.display.Javascript object>",
            "application/javascript": "parent.postMessage({\"jupyterEvent\": \"custom.exercise_interaction\", \"data\": {\"outcomeType\": 1, \"valueTowardsCompletion\": 0.2, \"interactionType\": 1, \"questionType\": 1, \"questionId\": \"3_WeatherDebug\", \"learnToolsVersion\": \"0.3.4\", \"failureMessage\": \"\", \"exceptionClass\": \"\", \"trace\": \"\"}}, \"*\")"
          },
          "metadata": {}
        },
        {
          "output_type": "display_data",
          "data": {
            "text/plain": "Correct: \n\nOne example of a failing test case is:\n\n```python\nhave_umbrella = False\nrain_level = 0.0\nhave_hood = False\nis_workday = False\n```\n\nClearly we're prepared for the weather in this case. It's not raining. Not only that, it's not a workday, so we don't even need to leave the house! But our function will return False on these inputs.\n\nThe key problem is that Python implictly parenthesizes the last part as:\n\n```python\n(not (rain_level > 0)) and is_workday\n```\n\nWhereas what we were trying to express would look more like:\n\n```python\nnot (rain_level > 0 and is_workday)\n```",
            "text/markdown": "<span style=\"color:#33cc33\">Correct:</span> \n\nOne example of a failing test case is:\n\n```python\nhave_umbrella = False\nrain_level = 0.0\nhave_hood = False\nis_workday = False\n```\n\nClearly we're prepared for the weather in this case. It's not raining. Not only that, it's not a workday, so we don't even need to leave the house! But our function will return False on these inputs.\n\nThe key problem is that Python implictly parenthesizes the last part as:\n\n```python\n(not (rain_level > 0)) and is_workday\n```\n\nWhereas what we were trying to express would look more like:\n\n```python\nnot (rain_level > 0 and is_workday)\n```\n"
          },
          "metadata": {}
        }
      ],
      "execution_count": null
    },
    {
      "cell_type": "code",
      "source": [
        "#q3.hint()\n",
        "#q3.solution()"
      ],
      "metadata": {
        "trusted": true,
        "execution": {
          "iopub.status.busy": "2025-02-21T09:11:05.817794Z",
          "iopub.execute_input": "2025-02-21T09:11:05.818115Z",
          "iopub.status.idle": "2025-02-21T09:11:05.82205Z",
          "shell.execute_reply.started": "2025-02-21T09:11:05.818089Z",
          "shell.execute_reply": "2025-02-21T09:11:05.820857Z"
        },
        "id": "Jc9WGOFJ-aGv"
      },
      "outputs": [],
      "execution_count": null
    },
    {
      "cell_type": "markdown",
      "source": [
        "# 4.\n",
        "\n",
        "The function `is_negative` below is implemented correctly - it returns True if the given number is negative and False otherwise.\n",
        "\n",
        "However, it's more verbose than it needs to be. We can actually reduce the number of lines of code in this function by *75%* while keeping the same behaviour.\n",
        "\n",
        "See if you can come up with an equivalent body that uses just **one line** of code, and put it in the function `concise_is_negative`. (HINT: you don't even need Python's ternary syntax)"
      ],
      "metadata": {
        "id": "UMOyafp--aGx"
      }
    },
    {
      "cell_type": "code",
      "source": [
        "def is_negative(number):\n",
        "    if number < 0:\n",
        "        return True\n",
        "    else:\n",
        "        return False\n",
        "\n",
        "def concise_is_negative(number):\n",
        "    return number < 0\n",
        "    pass # Your code goes here (try to keep it to one line!)\n",
        "\n",
        "# Check your answer\n",
        "q4.check()"
      ],
      "metadata": {
        "trusted": true,
        "execution": {
          "iopub.status.busy": "2025-02-21T09:11:40.748611Z",
          "iopub.execute_input": "2025-02-21T09:11:40.748956Z",
          "iopub.status.idle": "2025-02-21T09:11:40.757675Z",
          "shell.execute_reply.started": "2025-02-21T09:11:40.748928Z",
          "shell.execute_reply": "2025-02-21T09:11:40.756787Z"
        },
        "id": "dfqKQ632-aGx",
        "outputId": "810e52b3-a534-4d03-b7c9-b46c4aaafa6f"
      },
      "outputs": [
        {
          "output_type": "display_data",
          "data": {
            "text/plain": "<IPython.core.display.Javascript object>",
            "application/javascript": "parent.postMessage({\"jupyterEvent\": \"custom.exercise_interaction\", \"data\": {\"outcomeType\": 1, \"valueTowardsCompletion\": 0.2, \"interactionType\": 1, \"questionType\": 2, \"questionId\": \"4_ConciseIsNegative\", \"learnToolsVersion\": \"0.3.4\", \"failureMessage\": \"\", \"exceptionClass\": \"\", \"trace\": \"\"}}, \"*\")"
          },
          "metadata": {}
        },
        {
          "output_type": "display_data",
          "data": {
            "text/plain": "Correct",
            "text/markdown": "<span style=\"color:#33cc33\">Correct</span>"
          },
          "metadata": {}
        }
      ],
      "execution_count": null
    },
    {
      "cell_type": "code",
      "source": [
        "#q4.hint()\n",
        "#q4.solution()"
      ],
      "metadata": {
        "trusted": true,
        "execution": {
          "iopub.status.busy": "2025-02-21T09:11:45.268079Z",
          "iopub.execute_input": "2025-02-21T09:11:45.268467Z",
          "iopub.status.idle": "2025-02-21T09:11:45.272503Z",
          "shell.execute_reply.started": "2025-02-21T09:11:45.268435Z",
          "shell.execute_reply": "2025-02-21T09:11:45.271409Z"
        },
        "id": "xVNRZLU4-aGy"
      },
      "outputs": [],
      "execution_count": null
    },
    {
      "cell_type": "markdown",
      "source": [
        "# 5a.\n",
        "\n",
        "The boolean variables `ketchup`, `mustard` and `onion` represent whether a customer wants a particular topping on their hot dog. We want to implement a number of boolean functions that correspond to some yes-or-no questions about the customer's order. For example:"
      ],
      "metadata": {
        "id": "vfo-qfu2-aGz"
      }
    },
    {
      "cell_type": "code",
      "source": [
        "def onionless(ketchup, mustard, onion):\n",
        "    \"\"\"Return whether the customer doesn't want onions.\n",
        "    \"\"\"\n",
        "    return not onion"
      ],
      "metadata": {
        "trusted": true,
        "execution": {
          "iopub.status.busy": "2025-02-21T09:12:21.85897Z",
          "iopub.execute_input": "2025-02-21T09:12:21.859305Z",
          "iopub.status.idle": "2025-02-21T09:12:21.863768Z",
          "shell.execute_reply.started": "2025-02-21T09:12:21.859255Z",
          "shell.execute_reply": "2025-02-21T09:12:21.8626Z"
        },
        "id": "d59vw_Fe-aGz"
      },
      "outputs": [],
      "execution_count": null
    },
    {
      "cell_type": "code",
      "source": [
        "def wants_all_toppings(ketchup, mustard, onion):\n",
        "    \"\"\"Return whether the customer wants \"the works\" (all 3 toppings)\n",
        "    \"\"\"\n",
        "    pass\n",
        "    return ketchup and mustard and onion\n",
        "\n",
        "# Check your answer\n",
        "q5.a.check()"
      ],
      "metadata": {
        "trusted": true,
        "execution": {
          "iopub.status.busy": "2025-02-21T09:12:42.748262Z",
          "iopub.execute_input": "2025-02-21T09:12:42.748647Z",
          "iopub.status.idle": "2025-02-21T09:12:42.756882Z",
          "shell.execute_reply.started": "2025-02-21T09:12:42.748611Z",
          "shell.execute_reply": "2025-02-21T09:12:42.755905Z"
        },
        "id": "0T-TzY-c-aG0",
        "outputId": "e65ed32f-6601-413e-aa5c-8402dc81fc05"
      },
      "outputs": [
        {
          "output_type": "display_data",
          "data": {
            "text/plain": "<IPython.core.display.Javascript object>",
            "application/javascript": "parent.postMessage({\"jupyterEvent\": \"custom.exercise_interaction\", \"data\": {\"outcomeType\": 1, \"valueTowardsCompletion\": 0.2, \"interactionType\": 1, \"questionType\": 2, \"questionId\": \"5.1_AllToppings\", \"learnToolsVersion\": \"0.3.4\", \"failureMessage\": \"\", \"exceptionClass\": \"\", \"trace\": \"\"}}, \"*\")"
          },
          "metadata": {}
        },
        {
          "output_type": "display_data",
          "data": {
            "text/plain": "Correct",
            "text/markdown": "<span style=\"color:#33cc33\">Correct</span>"
          },
          "metadata": {}
        }
      ],
      "execution_count": null
    },
    {
      "cell_type": "code",
      "source": [
        "#q5.a.hint()\n",
        "#q5.a.solution()"
      ],
      "metadata": {
        "trusted": true,
        "execution": {
          "iopub.status.busy": "2025-02-21T09:12:46.462632Z",
          "iopub.execute_input": "2025-02-21T09:12:46.46294Z",
          "iopub.status.idle": "2025-02-21T09:12:46.467195Z",
          "shell.execute_reply.started": "2025-02-21T09:12:46.462916Z",
          "shell.execute_reply": "2025-02-21T09:12:46.465958Z"
        },
        "id": "p0iJ9tsE-aG1"
      },
      "outputs": [],
      "execution_count": null
    },
    {
      "cell_type": "markdown",
      "source": [
        "# 5b.\n",
        "\n",
        "For the next function, fill in the body to match the English description in the docstring."
      ],
      "metadata": {
        "id": "rJROTUl1-aG1"
      }
    },
    {
      "cell_type": "code",
      "source": [
        "def wants_plain_hotdog(ketchup, mustard, onion):\n",
        "    \"\"\"Return whether the customer wants a plain hot dog with no toppings.\n",
        "    \"\"\"\n",
        "    return not (ketchup or mustard or onion)\n",
        "    pass\n",
        "\n",
        "# Check your answer\n",
        "q5.b.check()"
      ],
      "metadata": {
        "trusted": true,
        "execution": {
          "iopub.status.busy": "2025-02-21T09:13:19.239187Z",
          "iopub.execute_input": "2025-02-21T09:13:19.239734Z",
          "iopub.status.idle": "2025-02-21T09:13:19.25049Z",
          "shell.execute_reply.started": "2025-02-21T09:13:19.239672Z",
          "shell.execute_reply": "2025-02-21T09:13:19.249227Z"
        },
        "id": "rQXX4sPW-aG2",
        "outputId": "a8b522e6-1e99-496e-8972-774ec613f2f8"
      },
      "outputs": [
        {
          "output_type": "display_data",
          "data": {
            "text/plain": "<IPython.core.display.Javascript object>",
            "application/javascript": "parent.postMessage({\"jupyterEvent\": \"custom.exercise_interaction\", \"data\": {\"outcomeType\": 1, \"valueTowardsCompletion\": 0.2, \"interactionType\": 1, \"questionType\": 2, \"questionId\": \"5.2_PlainDog\", \"learnToolsVersion\": \"0.3.4\", \"failureMessage\": \"\", \"exceptionClass\": \"\", \"trace\": \"\"}}, \"*\")"
          },
          "metadata": {}
        },
        {
          "output_type": "display_data",
          "data": {
            "text/plain": "Correct: \n\nOne solution looks like:\n```python\nreturn not ketchup and not mustard and not onion\n```\n\nWe can also [\"factor out\" the nots](https://en.wikipedia.org/wiki/De_Morgan%27s_laws) to get:\n\n```python\nreturn not (ketchup or mustard or onion)\n```",
            "text/markdown": "<span style=\"color:#33cc33\">Correct:</span> \n\nOne solution looks like:\n```python\nreturn not ketchup and not mustard and not onion\n```\n\nWe can also [\"factor out\" the nots](https://en.wikipedia.org/wiki/De_Morgan%27s_laws) to get:\n\n```python\nreturn not (ketchup or mustard or onion)\n```"
          },
          "metadata": {}
        }
      ],
      "execution_count": null
    },
    {
      "cell_type": "code",
      "source": [
        "#q5.b.hint()\n",
        "#q5.b.solution()"
      ],
      "metadata": {
        "trusted": true,
        "execution": {
          "iopub.status.busy": "2025-02-21T10:04:56.290841Z",
          "iopub.execute_input": "2025-02-21T10:04:56.291143Z",
          "iopub.status.idle": "2025-02-21T10:04:56.316126Z",
          "shell.execute_reply.started": "2025-02-21T10:04:56.291113Z",
          "shell.execute_reply": "2025-02-21T10:04:56.315036Z"
        },
        "id": "T3bsaPIp-aG2"
      },
      "outputs": [],
      "execution_count": null
    },
    {
      "cell_type": "markdown",
      "source": [
        "# 5c.\n",
        "\n",
        "You know what to do: for the next function, fill in the body to match the English description in the docstring."
      ],
      "metadata": {
        "id": "MTPoXXm6-aG3"
      }
    },
    {
      "cell_type": "code",
      "source": [
        "def exactly_one_sauce(ketchup, mustard, onion):\n",
        "    \"\"\"Return whether the customer wants either ketchup or mustard, but not both.\n",
        "    (You may be familiar with this operation under the name \"exclusive or\")\n",
        "    \"\"\"\n",
        "    return (ketchup and not mustard) or (mustard and not ketchup)\n",
        "    pass\n",
        "\n",
        "# Check your answer\n",
        "q5.c.check()"
      ],
      "metadata": {
        "trusted": true,
        "execution": {
          "iopub.status.busy": "2025-02-21T09:13:41.449781Z",
          "iopub.execute_input": "2025-02-21T09:13:41.450131Z",
          "iopub.status.idle": "2025-02-21T09:13:41.458257Z",
          "shell.execute_reply.started": "2025-02-21T09:13:41.450101Z",
          "shell.execute_reply": "2025-02-21T09:13:41.457322Z"
        },
        "id": "s2sEVtSu-aG4",
        "outputId": "a4930e89-a4cf-452c-fe7c-7928a214ad48"
      },
      "outputs": [
        {
          "output_type": "display_data",
          "data": {
            "text/plain": "<IPython.core.display.Javascript object>",
            "application/javascript": "parent.postMessage({\"jupyterEvent\": \"custom.exercise_interaction\", \"data\": {\"outcomeType\": 1, \"valueTowardsCompletion\": 0.2, \"interactionType\": 1, \"questionType\": 2, \"questionId\": \"5.3_OneSauce\", \"learnToolsVersion\": \"0.3.4\", \"failureMessage\": \"\", \"exceptionClass\": \"\", \"trace\": \"\"}}, \"*\")"
          },
          "metadata": {}
        },
        {
          "output_type": "display_data",
          "data": {
            "text/plain": "Correct",
            "text/markdown": "<span style=\"color:#33cc33\">Correct</span>"
          },
          "metadata": {}
        }
      ],
      "execution_count": null
    },
    {
      "cell_type": "code",
      "source": [
        "#q5.c.hint()\n",
        "#q5.c.solution()"
      ],
      "metadata": {
        "trusted": true,
        "execution": {
          "iopub.status.busy": "2025-02-21T09:13:49.378434Z",
          "iopub.execute_input": "2025-02-21T09:13:49.378773Z",
          "iopub.status.idle": "2025-02-21T09:13:49.382942Z",
          "shell.execute_reply.started": "2025-02-21T09:13:49.378748Z",
          "shell.execute_reply": "2025-02-21T09:13:49.381888Z"
        },
        "id": "40jWKHmR-aG5"
      },
      "outputs": [],
      "execution_count": null
    },
    {
      "cell_type": "markdown",
      "source": [
        "# 6. <span title=\"A bit spicy\" style=\"color: darkgreen \">🌶️</span>\n",
        "\n",
        "We’ve seen that calling `bool()` on an integer returns `False` if it’s equal to 0 and `True` otherwise. What happens if we call `int()` on a bool? Try it out in the notebook cell below.\n",
        "\n",
        "Can you take advantage of this to write a succinct function that corresponds to the English sentence \"does the customer want exactly one topping?\"?"
      ],
      "metadata": {
        "id": "AWGwWbrY-aG5"
      }
    },
    {
      "cell_type": "code",
      "source": [
        "def exactly_one_topping(ketchup, mustard, onion):\n",
        "    \"\"\"Return whether the customer wants exactly one of the three available toppings\n",
        "    on their hot dog.\n",
        "    \"\"\"\n",
        "    return (ketchup + mustard + onion) == 1\n",
        "    pass\n",
        "\n",
        "# Check your answer\n",
        "q6.check()"
      ],
      "metadata": {
        "trusted": true,
        "execution": {
          "iopub.status.busy": "2025-02-21T09:14:28.608529Z",
          "iopub.execute_input": "2025-02-21T09:14:28.608896Z",
          "iopub.status.idle": "2025-02-21T09:14:28.617052Z",
          "shell.execute_reply.started": "2025-02-21T09:14:28.608863Z",
          "shell.execute_reply": "2025-02-21T09:14:28.616177Z"
        },
        "id": "VPmz21rF-aG6",
        "outputId": "738bf720-4951-40ec-dd70-141c27818d36"
      },
      "outputs": [
        {
          "output_type": "display_data",
          "data": {
            "text/plain": "<IPython.core.display.Javascript object>",
            "application/javascript": "parent.postMessage({\"jupyterEvent\": \"custom.exercise_interaction\", \"data\": {\"outcomeType\": 1, \"valueTowardsCompletion\": 0.2, \"interactionType\": 1, \"questionType\": 2, \"questionId\": \"6_OneTopping\", \"learnToolsVersion\": \"0.3.4\", \"failureMessage\": \"\", \"exceptionClass\": \"\", \"trace\": \"\"}}, \"*\")"
          },
          "metadata": {}
        },
        {
          "output_type": "display_data",
          "data": {
            "text/plain": "Correct: \n\nThis condition would be pretty complicated to express using just `and`, `or` and `not`, but using boolean-to-integer conversion gives us this short solution:\n```python\nreturn (int(ketchup) + int(mustard) + int(onion)) == 1\n```\n\nFun fact: we don't technically need to call `int` on the arguments. Just by doing addition with booleans, Python implicitly does the integer conversion. So we could also write...\n\n```python\nreturn (ketchup + mustard + onion) == 1\n```",
            "text/markdown": "<span style=\"color:#33cc33\">Correct:</span> \n\nThis condition would be pretty complicated to express using just `and`, `or` and `not`, but using boolean-to-integer conversion gives us this short solution:\n```python\nreturn (int(ketchup) + int(mustard) + int(onion)) == 1\n```\n\nFun fact: we don't technically need to call `int` on the arguments. Just by doing addition with booleans, Python implicitly does the integer conversion. So we could also write...\n\n```python\nreturn (ketchup + mustard + onion) == 1\n```"
          },
          "metadata": {}
        }
      ],
      "execution_count": null
    },
    {
      "cell_type": "code",
      "source": [
        "#q6.hint()\n",
        "#q6.solution()"
      ],
      "metadata": {
        "trusted": true,
        "execution": {
          "iopub.status.busy": "2025-02-21T10:04:56.317465Z",
          "iopub.execute_input": "2025-02-21T10:04:56.317838Z",
          "iopub.status.idle": "2025-02-21T10:04:56.333191Z",
          "shell.execute_reply.started": "2025-02-21T10:04:56.31781Z",
          "shell.execute_reply": "2025-02-21T10:04:56.332243Z"
        },
        "id": "yfeUpN60-aG7"
      },
      "outputs": [],
      "execution_count": null
    },
    {
      "cell_type": "markdown",
      "source": [
        "# 7. <span title=\"A bit spicy\" style=\"color: darkgreen \">🌶️</span> (Optional)\n",
        "\n",
        "In this problem we'll be working with a simplified version of [blackjack](https://en.wikipedia.org/wiki/Blackjack) (aka twenty-one). In this version there is one player (who you'll control) and a dealer. Play proceeds as follows:\n",
        "\n",
        "- The player is dealt two face-up cards. The dealer is dealt one face-up card.\n",
        "- The player may ask to be dealt another card ('hit') as many times as they wish. If the sum of their cards exceeds 21, they lose the round immediately.\n",
        "- The dealer then deals additional cards to himself until either:\n",
        "    - the sum of the dealer's cards exceeds 21, in which case the player wins the round\n",
        "    - the sum of the dealer's cards is greater than or equal to 17. If the player's total is greater than the dealer's, the player wins. Otherwise, the dealer wins (even in case of a tie).\n",
        "    \n",
        "When calculating the sum of cards, Jack, Queen, and King count for 10. Aces can count as 1 or 11 (when referring to a player's \"total\" above, we mean the largest total that can be made without exceeding 21. So e.g. A+8 = 19, A+8+8 = 17)\n",
        "\n",
        "For this problem, you'll write a function representing the player's decision-making strategy in this game. We've provided a very unintelligent implementation below:"
      ],
      "metadata": {
        "id": "oR98Wsub-aG8"
      }
    },
    {
      "cell_type": "code",
      "source": [
        "def should_hit(dealer_total, player_total, player_low_aces, player_high_aces):\n",
        "    \"\"\"Return True if the player should hit (request another card) given the current game\n",
        "    state, or False if the player should stay.\n",
        "    When calculating a hand's total value, we count aces as \"high\" (with value 11) if doing so\n",
        "    doesn't bring the total above 21, otherwise we count them as low (with value 1).\n",
        "    For example, if the player's hand is {A, A, A, 7}, we will count it as 11 + 1 + 1 + 7,\n",
        "    and therefore set player_total=20, player_low_aces=2, player_high_aces=1.\n",
        "    \"\"\"\n",
        "\n",
        "    if player_total >= 21:\n",
        "        return False\n",
        "\n",
        "    # If player's total is 16 or less, hit\n",
        "    if player_total <= 16:\n",
        "        return True\n",
        "\n",
        "    # If player has a soft 17 (A + 6), hit\n",
        "    if player_total == 17 and player_high_aces > 0:\n",
        "        return True\n",
        "\n",
        "    # If player's total is between 17-20, hit only if dealer has a strong card (9, 10, or Ace)\n",
        "    if player_total >= 17:\n",
        "        if dealer_total >= 9:  # Dealer is likely to win\n",
        "            return True\n",
        "        return False\n",
        "\n",
        "    return False\n",
        "    return False"
      ],
      "metadata": {
        "trusted": true,
        "execution": {
          "iopub.status.busy": "2025-02-21T09:16:30.310924Z",
          "iopub.execute_input": "2025-02-21T09:16:30.311328Z",
          "iopub.status.idle": "2025-02-21T09:16:30.317337Z",
          "shell.execute_reply.started": "2025-02-21T09:16:30.311272Z",
          "shell.execute_reply": "2025-02-21T09:16:30.316115Z"
        },
        "id": "YwEX-pyF-aG9"
      },
      "outputs": [],
      "execution_count": null
    },
    {
      "cell_type": "markdown",
      "source": [
        "This very conservative agent *always* sticks with the hand of two cards that they're dealt.\n",
        "\n",
        "We'll be simulating games between your player agent and our own dealer agent by calling your function.\n",
        "\n",
        "Try running the function below to see an example of a simulated game:"
      ],
      "metadata": {
        "id": "fpYpzB6X-aG-"
      }
    },
    {
      "cell_type": "code",
      "source": [
        "q7.simulate_one_game()"
      ],
      "metadata": {
        "trusted": true,
        "execution": {
          "iopub.status.busy": "2025-02-21T09:16:34.728646Z",
          "iopub.execute_input": "2025-02-21T09:16:34.729023Z",
          "iopub.status.idle": "2025-02-21T09:16:34.735591Z",
          "shell.execute_reply.started": "2025-02-21T09:16:34.72899Z",
          "shell.execute_reply": "2025-02-21T09:16:34.734094Z"
        },
        "id": "60CItuG4-aG-",
        "outputId": "0e1aa175-4e02-4a29-a2d2-ea2130a4ea56"
      },
      "outputs": [
        {
          "name": "stdout",
          "text": "Player starts with 7 and 10 (total = 17)\nDealer starts with K\n\n__Player's turn__\nPlayer hits and receives 7. (total = 24)\nPlayer busts! Dealer wins.\n",
          "output_type": "stream"
        }
      ],
      "execution_count": null
    },
    {
      "cell_type": "markdown",
      "source": [
        "The real test of your agent's mettle is their average win rate over many games. Try calling the function below to simulate 50000 games of blackjack (it may take a couple seconds):"
      ],
      "metadata": {
        "id": "jl2stIyI-aG_"
      }
    },
    {
      "cell_type": "code",
      "source": [
        "q7.simulate(n_games=50000)"
      ],
      "metadata": {
        "trusted": true,
        "execution": {
          "iopub.status.busy": "2025-02-21T09:16:37.469015Z",
          "iopub.execute_input": "2025-02-21T09:16:37.469365Z",
          "iopub.status.idle": "2025-02-21T09:16:38.607403Z",
          "shell.execute_reply.started": "2025-02-21T09:16:37.469337Z",
          "shell.execute_reply": "2025-02-21T09:16:38.606315Z"
        },
        "id": "HycG2j3U-aG_",
        "outputId": "3accfb3d-a157-46c5-d26e-24ec77e4eb21"
      },
      "outputs": [
        {
          "name": "stdout",
          "text": "Player won 15952 out of 50000 games (win rate = 31.9%)\n",
          "output_type": "stream"
        }
      ],
      "execution_count": null
    },
    {
      "cell_type": "markdown",
      "source": [
        "[](http://)"
      ],
      "metadata": {
        "id": "ZZjgiw1J-aHO"
      }
    },
    {
      "cell_type": "markdown",
      "source": [
        "Our dumb agent that completely ignores the game state still manages to win shockingly often!\n",
        "\n",
        "Try adding some more smarts to the `should_hit` function and see how it affects the results."
      ],
      "metadata": {
        "id": "rSFh7Jh7-aHP"
      }
    },
    {
      "cell_type": "code",
      "source": [
        "def should_hit(dealer_total, player_total, player_low_aces, player_high_aces):\n",
        "    \"\"\"Return True if the player should hit (request another card) given the current game\n",
        "    state, or False if the player should stay.\n",
        "    When calculating a hand's total value, we count aces as \"high\" (with value 11) if doing so\n",
        "    doesn't bring the total above 21, otherwise we count them as low (with value 1).\n",
        "    For example, if the player's hand is {A, A, A, 7}, we will count it as 11 + 1 + 1 + 7,\n",
        "    and therefore set player_total=20, player_low_aces=2, player_high_aces=1.\n",
        "    \"\"\"\n",
        "    return False\n",
        "\n",
        "q7.simulate(n_games=50000)"
      ],
      "metadata": {
        "id": "ohbNlidh-aHQ"
      },
      "outputs": [],
      "execution_count": null
    },
    {
      "cell_type": "markdown",
      "source": [
        "# Keep Going\n",
        "\n",
        "Learn about **[lists and tuples](https://www.kaggle.com/colinmorris/lists)** to handle multiple items of data in a systematic way."
      ],
      "metadata": {
        "id": "YtSAZ0OA-aHR"
      }
    },
    {
      "cell_type": "markdown",
      "source": [
        "---\n",
        "\n",
        "\n",
        "\n",
        "\n",
        "*Have questions or comments? Visit the [course discussion forum](https://www.kaggle.com/learn/python/discussion) to chat with other learners.*"
      ],
      "metadata": {
        "id": "tgYwTYei-aHS"
      }
    }
  ]
}
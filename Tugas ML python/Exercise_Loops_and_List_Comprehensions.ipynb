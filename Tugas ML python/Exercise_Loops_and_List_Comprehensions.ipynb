{
  "metadata": {
    "kernelspec": {
      "display_name": "Python 3",
      "language": "python",
      "name": "python3"
    },
    "language_info": {
      "name": "python",
      "version": "3.10.12",
      "mimetype": "text/x-python",
      "codemirror_mode": {
        "name": "ipython",
        "version": 3
      },
      "pygments_lexer": "ipython3",
      "nbconvert_exporter": "python",
      "file_extension": ".py"
    },
    "learntools_metadata": {
      "lesson_index": 4,
      "type": "exercise"
    },
    "kaggle": {
      "accelerator": "none",
      "dataSources": [],
      "isInternetEnabled": false,
      "language": "python",
      "sourceType": "notebook",
      "isGpuEnabled": false
    },
    "colab": {
      "name": "Exercise: Loops and List Comprehensions",
      "provenance": []
    }
  },
  "nbformat_minor": 0,
  "nbformat": 4,
  "cells": [
    {
      "cell_type": "markdown",
      "source": [
        "**This notebook is an exercise in the [Python](https://www.kaggle.com/learn/python) course.  You can reference the tutorial at [this link](https://www.kaggle.com/colinmorris/loops-and-list-comprehensions).**\n",
        "\n",
        "---\n"
      ],
      "metadata": {
        "id": "F0R91ziI-cDb"
      }
    },
    {
      "cell_type": "markdown",
      "source": [
        "With all you've learned, you can start writing much more interesting programs. See if you can solve the problems below.\n",
        "\n",
        "As always, run the setup code below before working on the questions."
      ],
      "metadata": {
        "id": "IG5p0Udo-cDj"
      }
    },
    {
      "cell_type": "code",
      "source": [
        "from learntools.core import binder; binder.bind(globals())\n",
        "from learntools.python.ex5 import *\n",
        "print('Setup complete.')"
      ],
      "metadata": {
        "trusted": true,
        "execution": {
          "iopub.status.busy": "2025-02-21T09:25:17.389422Z",
          "iopub.execute_input": "2025-02-21T09:25:17.389797Z",
          "iopub.status.idle": "2025-02-21T09:25:17.865584Z",
          "shell.execute_reply.started": "2025-02-21T09:25:17.389764Z",
          "shell.execute_reply": "2025-02-21T09:25:17.864425Z"
        },
        "id": "rvTsAVQH-cDm",
        "outputId": "e2d290d4-33ff-4fd8-e2ce-5ec902d7856d"
      },
      "outputs": [
        {
          "name": "stdout",
          "text": "Setup complete.\n",
          "output_type": "stream"
        }
      ],
      "execution_count": null
    },
    {
      "cell_type": "markdown",
      "source": [
        "# 1.\n",
        "\n",
        "Have you ever felt debugging involved a bit of luck? The following program has a bug. Try to identify the bug and fix it."
      ],
      "metadata": {
        "id": "h2USu0hB-cDs"
      }
    },
    {
      "cell_type": "code",
      "source": [
        "def has_lucky_number(nums):\n",
        "    \"\"\"Return whether the given list of numbers is lucky. A lucky list contains\n",
        "    at least one number divisible by 7.\n",
        "    \"\"\"\n",
        "    for num in nums:\n",
        "        if num % 7 == 0:\n",
        "            return True\n",
        "        else:\n",
        "            return False"
      ],
      "metadata": {
        "trusted": true,
        "execution": {
          "iopub.status.busy": "2025-02-21T09:28:09.027193Z",
          "iopub.execute_input": "2025-02-21T09:28:09.027648Z",
          "iopub.status.idle": "2025-02-21T09:28:09.033626Z",
          "shell.execute_reply.started": "2025-02-21T09:28:09.027609Z",
          "shell.execute_reply": "2025-02-21T09:28:09.032176Z"
        },
        "id": "yOYZyW_N-cDt"
      },
      "outputs": [],
      "execution_count": null
    },
    {
      "cell_type": "markdown",
      "source": [
        "Try to identify the bug and fix it in the cell below:"
      ],
      "metadata": {
        "id": "_ZW0hldX-cDu"
      }
    },
    {
      "cell_type": "code",
      "source": [
        "def has_lucky_number(nums):\n",
        "    \"\"\"Return whether the given list of numbers is lucky. A lucky list contains\n",
        "    at least one number divisible by 7.\n",
        "    \"\"\"\n",
        "    for num in nums:\n",
        "        if num % 7 == 0:\n",
        "            return True\n",
        "        return False\n",
        "\n",
        "def has_lucky_number(nums):\n",
        "    return any([num % 7 == 0 for num in nums])\n",
        "# Check your answer\n",
        "q1.check()"
      ],
      "metadata": {
        "trusted": true,
        "execution": {
          "iopub.status.busy": "2025-02-21T09:28:03.296908Z",
          "iopub.execute_input": "2025-02-21T09:28:03.297287Z",
          "iopub.status.idle": "2025-02-21T09:28:03.306814Z",
          "shell.execute_reply.started": "2025-02-21T09:28:03.297249Z",
          "shell.execute_reply": "2025-02-21T09:28:03.305711Z"
        },
        "id": "RAZHQfKy-cDy",
        "outputId": "fb02bc81-2c7a-42c6-e069-184e623c658c"
      },
      "outputs": [
        {
          "output_type": "display_data",
          "data": {
            "text/plain": "<IPython.core.display.Javascript object>",
            "application/javascript": "parent.postMessage({\"jupyterEvent\": \"custom.exercise_interaction\", \"data\": {\"outcomeType\": 1, \"valueTowardsCompletion\": 0.25, \"interactionType\": 1, \"questionType\": 2, \"questionId\": \"1_EarlyExitDebugging\", \"learnToolsVersion\": \"0.3.4\", \"failureMessage\": \"\", \"exceptionClass\": \"\", \"trace\": \"\"}}, \"*\")"
          },
          "metadata": {}
        },
        {
          "output_type": "display_data",
          "data": {
            "text/plain": "Correct: \n\nRemember that `return` causes a function to exit immediately. So our original implementation always ran for just one iteration. We can only return `False` if we've looked at every element of the list (and confirmed that none of them are lucky). Though we can return early if the answer is `True`:\n\n```python\ndef has_lucky_number(nums):\n    for num in nums:\n        if num % 7 == 0:\n            return True\n    # We've exhausted the list without finding a lucky number\n    return False\n```\n\nHere's a one-line version using a list comprehension with Python's `any` function (you can read about what it does by calling `help(any)`):\n\n```python\ndef has_lucky_number(nums):\n    return any([num % 7 == 0 for num in nums])\n```",
            "text/markdown": "<span style=\"color:#33cc33\">Correct:</span> \n\nRemember that `return` causes a function to exit immediately. So our original implementation always ran for just one iteration. We can only return `False` if we've looked at every element of the list (and confirmed that none of them are lucky). Though we can return early if the answer is `True`:\n\n```python\ndef has_lucky_number(nums):\n    for num in nums:\n        if num % 7 == 0:\n            return True\n    # We've exhausted the list without finding a lucky number\n    return False\n```\n\nHere's a one-line version using a list comprehension with Python's `any` function (you can read about what it does by calling `help(any)`):\n\n```python\ndef has_lucky_number(nums):\n    return any([num % 7 == 0 for num in nums])\n```\n"
          },
          "metadata": {}
        }
      ],
      "execution_count": null
    },
    {
      "cell_type": "code",
      "source": [
        "#q1.hint()\n",
        "#q1.solution()"
      ],
      "metadata": {
        "trusted": true,
        "execution": {
          "iopub.status.busy": "2025-02-21T09:28:26.816501Z",
          "iopub.execute_input": "2025-02-21T09:28:26.816926Z",
          "iopub.status.idle": "2025-02-21T09:28:26.820919Z",
          "shell.execute_reply.started": "2025-02-21T09:28:26.816896Z",
          "shell.execute_reply": "2025-02-21T09:28:26.819728Z"
        },
        "id": "KsA34dGR-cD0"
      },
      "outputs": [],
      "execution_count": null
    },
    {
      "cell_type": "markdown",
      "source": [
        "# 2.\n",
        "Look at the Python expression below. What do you think we'll get when we run it? When you've made your prediction, uncomment the code and run the cell to see if you were right."
      ],
      "metadata": {
        "id": "h_Gw1DEL-cD1"
      }
    },
    {
      "cell_type": "code",
      "source": [
        "#[1, 2, 3, 4] > 2"
      ],
      "metadata": {
        "id": "V4_q-RpS-cD3"
      },
      "outputs": [],
      "execution_count": null
    },
    {
      "cell_type": "markdown",
      "source": [
        "R and Python have some libraries (like numpy and pandas) compare each element of the list to 2 (i.e. do an 'element-wise' comparison) and give us a list of booleans like `[False, False, True, True]`.\n",
        "\n",
        "Implement a function that reproduces this behaviour, returning a list of booleans corresponding to whether the corresponding element is greater than n."
      ],
      "metadata": {
        "id": "9xC4OSCe-cD4"
      }
    },
    {
      "cell_type": "code",
      "source": [
        "def elementwise_greater_than(L, thresh):\n",
        "    \"\"\"Return a list with the same length as L, where the value at index i is\n",
        "    True if L[i] is greater than thresh, and False otherwise.\n",
        "\n",
        "    >>> elementwise_greater_than([1, 2, 3, 4], 2)\n",
        "    [False, False, True, True]\n",
        "    \"\"\"\n",
        "    res = []\n",
        "    for ele in L:\n",
        "        res.append(ele > thresh)\n",
        "    return res\n",
        "\n",
        "def elementwise_greater_than(L, thresh):\n",
        "    return [ele > thresh for ele in L]\n",
        "\n",
        "# Check your answer\n",
        "q2.check()"
      ],
      "metadata": {
        "trusted": true,
        "execution": {
          "iopub.status.busy": "2025-02-21T09:29:31.691707Z",
          "iopub.execute_input": "2025-02-21T09:29:31.692043Z",
          "iopub.status.idle": "2025-02-21T09:29:31.701451Z",
          "shell.execute_reply.started": "2025-02-21T09:29:31.692017Z",
          "shell.execute_reply": "2025-02-21T09:29:31.700345Z"
        },
        "id": "aBUDa2wy-cD5",
        "outputId": "f0a341e0-a97c-4145-9850-5b51adc371bb"
      },
      "outputs": [
        {
          "output_type": "display_data",
          "data": {
            "text/plain": "<IPython.core.display.Javascript object>",
            "application/javascript": "parent.postMessage({\"jupyterEvent\": \"custom.exercise_interaction\", \"data\": {\"outcomeType\": 1, \"valueTowardsCompletion\": 0.25, \"interactionType\": 1, \"questionType\": 2, \"questionId\": \"2_ElementWiseComparison\", \"learnToolsVersion\": \"0.3.4\", \"failureMessage\": \"\", \"exceptionClass\": \"\", \"trace\": \"\"}}, \"*\")"
          },
          "metadata": {}
        },
        {
          "output_type": "display_data",
          "data": {
            "text/plain": "Correct: \n\nHere's one solution:\n```python\ndef elementwise_greater_than(L, thresh):\n    res = []\n    for ele in L:\n        res.append(ele > thresh)\n    return res\n```\n\nAnd here's the list comprehension version:\n```python\ndef elementwise_greater_than(L, thresh):\n    return [ele > thresh for ele in L]\n```",
            "text/markdown": "<span style=\"color:#33cc33\">Correct:</span> \n\nHere's one solution:\n```python\ndef elementwise_greater_than(L, thresh):\n    res = []\n    for ele in L:\n        res.append(ele > thresh)\n    return res\n```\n\nAnd here's the list comprehension version:\n```python\ndef elementwise_greater_than(L, thresh):\n    return [ele > thresh for ele in L]\n```\n"
          },
          "metadata": {}
        }
      ],
      "execution_count": null
    },
    {
      "cell_type": "code",
      "source": [
        "#q2.solution()"
      ],
      "metadata": {
        "trusted": true,
        "execution": {
          "iopub.status.busy": "2025-02-21T09:29:38.80155Z",
          "iopub.execute_input": "2025-02-21T09:29:38.80196Z",
          "iopub.status.idle": "2025-02-21T09:29:38.806801Z",
          "shell.execute_reply.started": "2025-02-21T09:29:38.80193Z",
          "shell.execute_reply": "2025-02-21T09:29:38.805346Z"
        },
        "id": "KvM3p8d9-cD6"
      },
      "outputs": [],
      "execution_count": null
    },
    {
      "cell_type": "markdown",
      "source": [
        "# 3.\n",
        "\n",
        "Complete the body of the function below according to its docstring."
      ],
      "metadata": {
        "id": "v3q_On_u-cD7"
      }
    },
    {
      "cell_type": "code",
      "source": [
        "def menu_is_boring(meals):\n",
        "    \"\"\"Given a list of meals served over some period of time, return True if the\n",
        "    same meal has ever been served two days in a row, and False otherwise.\n",
        "    \"\"\"\n",
        "    for i in range(len(meals)-1):\n",
        "        if meals[i] == meals[i+1]:\n",
        "            return True\n",
        "    return False\n",
        "\n",
        "# Check your answer\n",
        "q3.check()"
      ],
      "metadata": {
        "trusted": true,
        "execution": {
          "iopub.status.busy": "2025-02-21T09:29:58.811803Z",
          "iopub.execute_input": "2025-02-21T09:29:58.812126Z",
          "iopub.status.idle": "2025-02-21T09:29:58.821276Z",
          "shell.execute_reply.started": "2025-02-21T09:29:58.812102Z",
          "shell.execute_reply": "2025-02-21T09:29:58.820262Z"
        },
        "id": "_juhqqzR-cD7",
        "outputId": "2f5f5628-8701-4f15-ae76-beb58b6b5db4"
      },
      "outputs": [
        {
          "output_type": "display_data",
          "data": {
            "text/plain": "<IPython.core.display.Javascript object>",
            "application/javascript": "parent.postMessage({\"jupyterEvent\": \"custom.exercise_interaction\", \"data\": {\"outcomeType\": 1, \"valueTowardsCompletion\": 0.25, \"interactionType\": 1, \"questionType\": 2, \"questionId\": \"3_BoringMenu\", \"learnToolsVersion\": \"0.3.4\", \"failureMessage\": \"\", \"exceptionClass\": \"\", \"trace\": \"\"}}, \"*\")"
          },
          "metadata": {}
        },
        {
          "output_type": "display_data",
          "data": {
            "text/plain": "Correct: \n\n\n\n```python\ndef menu_is_boring(meals):\n    # Iterate over all indices of the list, except the last one\n    for i in range(len(meals)-1):\n        if meals[i] == meals[i+1]:\n            return True\n    return False\n```\n\nThe key to our solution is the call to `range`. `range(len(meals))` would give us all the indices of `meals`. If we had used that range, the last iteration of the loop would be comparing the last element to the element after it, which is... `IndexError`! `range(len(meals)-1)` gives us all the indices except the index of the last element.\n\nBut don't we need to check if `meals` is empty? Turns out that `range(0) == range(-1)` - they're both empty. So if `meals` has length 0 or 1, we just won't do any iterations of our for loop.",
            "text/markdown": "<span style=\"color:#33cc33\">Correct:</span> \n\n\n\n```python\ndef menu_is_boring(meals):\n    # Iterate over all indices of the list, except the last one\n    for i in range(len(meals)-1):\n        if meals[i] == meals[i+1]:\n            return True\n    return False\n```\n\nThe key to our solution is the call to `range`. `range(len(meals))` would give us all the indices of `meals`. If we had used that range, the last iteration of the loop would be comparing the last element to the element after it, which is... `IndexError`! `range(len(meals)-1)` gives us all the indices except the index of the last element.\n\nBut don't we need to check if `meals` is empty? Turns out that `range(0) == range(-1)` - they're both empty. So if `meals` has length 0 or 1, we just won't do any iterations of our for loop.\n"
          },
          "metadata": {}
        }
      ],
      "execution_count": null
    },
    {
      "cell_type": "code",
      "source": [
        "#q3.hint()\n",
        "#q3.solution()"
      ],
      "metadata": {
        "trusted": true,
        "execution": {
          "iopub.status.busy": "2025-02-21T09:30:03.786507Z",
          "iopub.execute_input": "2025-02-21T09:30:03.786934Z",
          "iopub.status.idle": "2025-02-21T09:30:03.79134Z",
          "shell.execute_reply.started": "2025-02-21T09:30:03.786901Z",
          "shell.execute_reply": "2025-02-21T09:30:03.790233Z"
        },
        "id": "USTbJbE4-cD9"
      },
      "outputs": [],
      "execution_count": null
    },
    {
      "cell_type": "markdown",
      "source": [
        "# 4. <span title=\"A bit spicy\" style=\"color: darkgreen \">🌶️</span>\n",
        "\n",
        "Next to the Blackjack table, the Python Challenge Casino has a slot machine. You can get a result from the slot machine by calling `play_slot_machine()`. The number it returns is your winnings in dollars. Usually it returns 0.  But sometimes you'll get lucky and get a big payday. Try running it below:"
      ],
      "metadata": {
        "id": "sD2RJWMj-cD_"
      }
    },
    {
      "cell_type": "code",
      "source": [
        "play_slot_machine()"
      ],
      "metadata": {
        "id": "MgdOJ_gC-cEA"
      },
      "outputs": [],
      "execution_count": null
    },
    {
      "cell_type": "markdown",
      "source": [
        "By the way, did we mention that each play costs $1? Don't worry, we'll send you the bill later.\n",
        "\n",
        "On average, how much money can you expect to gain (or lose) every time you play the machine?  The casino keeps it a secret, but you can estimate the average value of each pull using a technique called the **Monte Carlo method**. To estimate the average outcome, we simulate the scenario many times, and return the average result.\n",
        "\n",
        "Complete the following function to calculate the average value per play of the slot machine."
      ],
      "metadata": {
        "id": "BRidBeSV-cEB"
      }
    },
    {
      "cell_type": "code",
      "source": [
        "def estimate_average_slot_payout(n_runs):\n",
        "    \"\"\"Run the slot machine n_runs times and return the average net profit per run.\n",
        "    Example calls (note that return value is nondeterministic!):\n",
        "    >>> estimate_average_slot_payout(1)\n",
        "    -1\n",
        "    >>> estimate_average_slot_payout(1)\n",
        "    0.5\n",
        "    \"\"\"\n",
        "    payouts = [play_slot_machine()-1 for i in range(n_runs)]\n",
        "    avg_payout = sum(payouts) / n_runs\n",
        "    return avg_payout\n",
        "\n",
        "estimate_average_slot_payout(10000000)"
      ],
      "metadata": {
        "trusted": true,
        "execution": {
          "iopub.status.busy": "2025-02-21T09:30:42.44698Z",
          "iopub.execute_input": "2025-02-21T09:30:42.447486Z",
          "iopub.status.idle": "2025-02-21T09:30:45.648521Z",
          "shell.execute_reply.started": "2025-02-21T09:30:42.447444Z",
          "shell.execute_reply": "2025-02-21T09:30:45.647433Z"
        },
        "id": "Luvni6wi-cEB",
        "outputId": "dafbec06-322f-46cf-976a-1c49e14d0be5"
      },
      "outputs": [
        {
          "execution_count": 14,
          "output_type": "execute_result",
          "data": {
            "text/plain": "0.02745185"
          },
          "metadata": {}
        }
      ],
      "execution_count": null
    },
    {
      "cell_type": "markdown",
      "source": [
        "When you think you know the expected value per spin, run the code cell below to view the solution and get credit for answering the question."
      ],
      "metadata": {
        "id": "8-TQ7T14-cEC"
      }
    },
    {
      "cell_type": "code",
      "source": [
        "# Check your answer (Run this code cell to receive credit!)\n",
        "# q4.solution()"
      ],
      "metadata": {
        "trusted": true,
        "execution": {
          "iopub.status.busy": "2025-02-21T09:30:59.897221Z",
          "iopub.execute_input": "2025-02-21T09:30:59.897543Z",
          "iopub.status.idle": "2025-02-21T09:30:59.902133Z",
          "shell.execute_reply.started": "2025-02-21T09:30:59.897518Z",
          "shell.execute_reply": "2025-02-21T09:30:59.900783Z"
        },
        "id": "-TkwyJj--cEC"
      },
      "outputs": [],
      "execution_count": null
    },
    {
      "cell_type": "markdown",
      "source": [
        "# Keep Going\n",
        "\n",
        "Many programmers report that dictionaries are their favorite data structure. You'll get to **[learn about them](https://www.kaggle.com/colinmorris/strings-and-dictionaries)** (as well as strings) in the next lesson."
      ],
      "metadata": {
        "id": "0_U2u4Ju-cED"
      }
    },
    {
      "cell_type": "markdown",
      "source": [
        "---\n",
        "\n",
        "\n",
        "\n",
        "\n",
        "*Have questions or comments? Visit the [course discussion forum](https://www.kaggle.com/learn/python/discussion) to chat with other learners.*"
      ],
      "metadata": {
        "id": "Uly3Dp-Q-cED"
      }
    }
  ]
}
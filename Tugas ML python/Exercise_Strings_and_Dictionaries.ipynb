{
  "metadata": {
    "kernelspec": {
      "display_name": "Python 3",
      "language": "python",
      "name": "python3"
    },
    "language_info": {
      "name": "python",
      "version": "3.10.12",
      "mimetype": "text/x-python",
      "codemirror_mode": {
        "name": "ipython",
        "version": 3
      },
      "pygments_lexer": "ipython3",
      "nbconvert_exporter": "python",
      "file_extension": ".py"
    },
    "learntools_metadata": {
      "lesson_index": 5,
      "type": "exercise"
    },
    "kaggle": {
      "accelerator": "none",
      "dataSources": [],
      "isInternetEnabled": false,
      "language": "python",
      "sourceType": "notebook",
      "isGpuEnabled": false
    },
    "colab": {
      "name": "Exercise: Strings and Dictionaries",
      "provenance": []
    }
  },
  "nbformat_minor": 0,
  "nbformat": 4,
  "cells": [
    {
      "cell_type": "markdown",
      "source": [
        "**This notebook is an exercise in the [Python](https://www.kaggle.com/learn/python) course.  You can reference the tutorial at [this link](https://www.kaggle.com/colinmorris/strings-and-dictionaries).**\n",
        "\n",
        "---\n"
      ],
      "metadata": {
        "id": "_HGxJN0d-c6t"
      }
    },
    {
      "cell_type": "markdown",
      "source": [
        "You are almost done with the course. Nice job!\n",
        "\n",
        "We have a couple more interesting problems for you before you go.\n",
        "\n",
        "As always, run the setup code below before working on the questions."
      ],
      "metadata": {
        "id": "iSCfIfIq-c62"
      }
    },
    {
      "cell_type": "code",
      "source": [
        "from learntools.core import binder; binder.bind(globals())\n",
        "from learntools.python.ex6 import *\n",
        "print('Setup complete.')"
      ],
      "metadata": {
        "trusted": true,
        "execution": {
          "iopub.status.busy": "2025-02-21T09:39:36.064941Z",
          "iopub.execute_input": "2025-02-21T09:39:36.065374Z",
          "iopub.status.idle": "2025-02-21T09:39:36.072579Z",
          "shell.execute_reply.started": "2025-02-21T09:39:36.065335Z",
          "shell.execute_reply": "2025-02-21T09:39:36.071098Z"
        },
        "id": "eD4RTx-I-c65",
        "outputId": "df769e7e-d1b9-4efe-dd30-75633d6f3693"
      },
      "outputs": [
        {
          "name": "stdout",
          "text": "Setup complete.\n",
          "output_type": "stream"
        }
      ],
      "execution_count": null
    },
    {
      "cell_type": "markdown",
      "source": [
        "Let's start with a string lightning round to warm up. What are the lengths of the strings below?\n",
        "\n",
        "For each of the five strings below, predict what `len()` would return when passed that string. Use the variable `length` to record your answer, then run the cell to check whether you were right.  \n",
        "\n",
        "# 0a."
      ],
      "metadata": {
        "id": "jhsbeGka-c6-"
      }
    },
    {
      "cell_type": "code",
      "source": [
        "a = \"\"\n",
        "length = 0\n",
        "q0.a.check()"
      ],
      "metadata": {
        "trusted": true,
        "execution": {
          "iopub.status.busy": "2025-02-21T09:40:02.209506Z",
          "iopub.execute_input": "2025-02-21T09:40:02.210363Z",
          "iopub.status.idle": "2025-02-21T09:40:02.223348Z",
          "shell.execute_reply.started": "2025-02-21T09:40:02.210307Z",
          "shell.execute_reply": "2025-02-21T09:40:02.221368Z"
        },
        "id": "5bZKnIIW-c7G",
        "outputId": "8c1d3ec3-7c34-4222-87a9-b59a7315ec6d"
      },
      "outputs": [
        {
          "output_type": "display_data",
          "data": {
            "text/plain": "<IPython.core.display.Javascript object>",
            "application/javascript": "parent.postMessage({\"jupyterEvent\": \"custom.exercise_interaction\", \"data\": {\"outcomeType\": 1, \"valueTowardsCompletion\": 0.3333333333333333, \"interactionType\": 1, \"questionType\": 1, \"questionId\": \"0.1_ZA\", \"learnToolsVersion\": \"0.3.4\", \"failureMessage\": \"\", \"exceptionClass\": \"\", \"trace\": \"\"}}, \"*\")"
          },
          "metadata": {}
        },
        {
          "output_type": "display_data",
          "data": {
            "text/plain": "Correct: \n\nThe empty string has length zero. Note that the empty string is also the only string that Python considers as False when converting to boolean.",
            "text/markdown": "<span style=\"color:#33cc33\">Correct:</span> \n\nThe empty string has length zero. Note that the empty string is also the only string that Python considers as False when converting to boolean."
          },
          "metadata": {}
        }
      ],
      "execution_count": null
    },
    {
      "cell_type": "markdown",
      "source": [
        "# 0b."
      ],
      "metadata": {
        "id": "2OE76iE--c7H"
      }
    },
    {
      "cell_type": "code",
      "source": [
        "b = \"it's ok\"\n",
        "length = 7\n",
        "q0.b.check()"
      ],
      "metadata": {
        "trusted": true,
        "execution": {
          "iopub.status.busy": "2025-02-21T09:40:19.48926Z",
          "iopub.execute_input": "2025-02-21T09:40:19.489609Z",
          "iopub.status.idle": "2025-02-21T09:40:19.500674Z",
          "shell.execute_reply.started": "2025-02-21T09:40:19.489579Z",
          "shell.execute_reply": "2025-02-21T09:40:19.499326Z"
        },
        "id": "viL48zZy-c7J",
        "outputId": "7580ff03-e9a8-441e-92e0-b3a771a927e8"
      },
      "outputs": [
        {
          "output_type": "display_data",
          "data": {
            "text/plain": "<IPython.core.display.Javascript object>",
            "application/javascript": "parent.postMessage({\"jupyterEvent\": \"custom.exercise_interaction\", \"data\": {\"outcomeType\": 1, \"valueTowardsCompletion\": 0.3333333333333333, \"interactionType\": 1, \"questionType\": 1, \"questionId\": \"0.2_ZB\", \"learnToolsVersion\": \"0.3.4\", \"failureMessage\": \"\", \"exceptionClass\": \"\", \"trace\": \"\"}}, \"*\")"
          },
          "metadata": {}
        },
        {
          "output_type": "display_data",
          "data": {
            "text/plain": "Correct: \n\nKeep in mind Python includes spaces (and punctuation) when counting string length.",
            "text/markdown": "<span style=\"color:#33cc33\">Correct:</span> \n\nKeep in mind Python includes spaces (and punctuation) when counting string length."
          },
          "metadata": {}
        }
      ],
      "execution_count": null
    },
    {
      "cell_type": "markdown",
      "source": [
        "# 0c."
      ],
      "metadata": {
        "id": "TXhqesm2-c7M"
      }
    },
    {
      "cell_type": "code",
      "source": [
        "c = 'it\\'s ok'\n",
        "length = 7\n",
        "q0.c.check()"
      ],
      "metadata": {
        "trusted": true,
        "execution": {
          "iopub.status.busy": "2025-02-21T09:41:12.935508Z",
          "iopub.execute_input": "2025-02-21T09:41:12.935861Z",
          "iopub.status.idle": "2025-02-21T09:41:12.947919Z",
          "shell.execute_reply.started": "2025-02-21T09:41:12.935808Z",
          "shell.execute_reply": "2025-02-21T09:41:12.945243Z"
        },
        "id": "P5P_GEgd-c7N",
        "outputId": "6896e562-f43c-42ea-8abc-7c7d238d067f"
      },
      "outputs": [
        {
          "output_type": "display_data",
          "data": {
            "text/plain": "<IPython.core.display.Javascript object>",
            "application/javascript": "parent.postMessage({\"jupyterEvent\": \"custom.exercise_interaction\", \"data\": {\"outcomeType\": 1, \"valueTowardsCompletion\": 0.3333333333333333, \"interactionType\": 1, \"questionType\": 1, \"questionId\": \"0.3_ZC\", \"learnToolsVersion\": \"0.3.4\", \"failureMessage\": \"\", \"exceptionClass\": \"\", \"trace\": \"\"}}, \"*\")"
          },
          "metadata": {}
        },
        {
          "output_type": "display_data",
          "data": {
            "text/plain": "Correct: \n\nEven though we use different syntax to create it, the string `c` is identical to `b`. In particular, note that the backslash is not part of the string, so it doesn't contribute to its length.",
            "text/markdown": "<span style=\"color:#33cc33\">Correct:</span> \n\nEven though we use different syntax to create it, the string `c` is identical to `b`. In particular, note that the backslash is not part of the string, so it doesn't contribute to its length."
          },
          "metadata": {}
        }
      ],
      "execution_count": null
    },
    {
      "cell_type": "markdown",
      "source": [
        "# 0d."
      ],
      "metadata": {
        "id": "sFSM4ETn-c7P"
      }
    },
    {
      "cell_type": "code",
      "source": [
        "d = \"\"\"hey\"\"\"\n",
        "length = 3\n",
        "q0.d.check()"
      ],
      "metadata": {
        "trusted": true,
        "execution": {
          "iopub.status.busy": "2025-02-21T09:42:05.579736Z",
          "iopub.execute_input": "2025-02-21T09:42:05.580092Z",
          "iopub.status.idle": "2025-02-21T09:42:05.590448Z",
          "shell.execute_reply.started": "2025-02-21T09:42:05.58007Z",
          "shell.execute_reply": "2025-02-21T09:42:05.5891Z"
        },
        "id": "_GQFVWpg-c7Q",
        "outputId": "eb3c8b66-3954-44fd-c86f-167b6156d7ed"
      },
      "outputs": [
        {
          "output_type": "display_data",
          "data": {
            "text/plain": "<IPython.core.display.Javascript object>",
            "application/javascript": "parent.postMessage({\"jupyterEvent\": \"custom.exercise_interaction\", \"data\": {\"outcomeType\": 1, \"valueTowardsCompletion\": 0.3333333333333333, \"interactionType\": 1, \"questionType\": 1, \"questionId\": \"0.4_ZD\", \"learnToolsVersion\": \"0.3.4\", \"failureMessage\": \"\", \"exceptionClass\": \"\", \"trace\": \"\"}}, \"*\")"
          },
          "metadata": {}
        },
        {
          "output_type": "display_data",
          "data": {
            "text/plain": "Correct: \n\nThe fact that this string was created using triple-quote syntax doesn't make any difference in terms of its content or length. This string is exactly the same as `'hey'`.",
            "text/markdown": "<span style=\"color:#33cc33\">Correct:</span> \n\nThe fact that this string was created using triple-quote syntax doesn't make any difference in terms of its content or length. This string is exactly the same as `'hey'`."
          },
          "metadata": {}
        }
      ],
      "execution_count": null
    },
    {
      "cell_type": "markdown",
      "source": [
        "# 0e."
      ],
      "metadata": {
        "id": "9QoJebjI-c7R"
      }
    },
    {
      "cell_type": "code",
      "source": [
        "e = '\\n'\n",
        "length = 1\n",
        "q0.e.check()"
      ],
      "metadata": {
        "trusted": true,
        "execution": {
          "iopub.status.busy": "2025-02-21T09:42:22.417081Z",
          "iopub.execute_input": "2025-02-21T09:42:22.417602Z",
          "iopub.status.idle": "2025-02-21T09:42:22.427823Z",
          "shell.execute_reply.started": "2025-02-21T09:42:22.417556Z",
          "shell.execute_reply": "2025-02-21T09:42:22.426265Z"
        },
        "id": "JkQTbjDZ-c7S",
        "outputId": "a17b5c3c-9fa6-4128-dd03-7ac1b78a1ce4"
      },
      "outputs": [
        {
          "output_type": "display_data",
          "data": {
            "text/plain": "<IPython.core.display.Javascript object>",
            "application/javascript": "parent.postMessage({\"jupyterEvent\": \"custom.exercise_interaction\", \"data\": {\"outcomeType\": 1, \"valueTowardsCompletion\": 0.3333333333333333, \"interactionType\": 1, \"questionType\": 1, \"questionId\": \"0.5_ZE\", \"learnToolsVersion\": \"0.3.4\", \"failureMessage\": \"\", \"exceptionClass\": \"\", \"trace\": \"\"}}, \"*\")"
          },
          "metadata": {}
        },
        {
          "output_type": "display_data",
          "data": {
            "text/plain": "Correct: \n\nThe newline character is just a single character! (Even though we represent it to Python using a combination of two characters.)",
            "text/markdown": "<span style=\"color:#33cc33\">Correct:</span> \n\nThe newline character is just a single character! (Even though we represent it to Python using a combination of two characters.)"
          },
          "metadata": {}
        }
      ],
      "execution_count": null
    },
    {
      "cell_type": "markdown",
      "source": [
        "# 1.\n",
        "\n",
        "There is a saying that \"Data scientists spend 80% of their time cleaning data, and 20% of their time complaining about cleaning data.\" Let's see if you can write a function to help clean US zip code data. Given a string, it should return whether or not that string represents a valid zip code. For our purposes, a valid zip code is any string consisting of exactly 5 digits.\n",
        "\n",
        "HINT: `str` has a method that will be useful here. Use `help(str)` to review a list of string methods."
      ],
      "metadata": {
        "id": "h6ba64hs-c7T"
      }
    },
    {
      "cell_type": "code",
      "source": [
        "def is_valid_zip(zip_code):\n",
        "    \"\"\"Returns whether the input string is a valid (5 digit) zip code\n",
        "    \"\"\"\n",
        "    return len(zip_code) == 5 and zip_code.isdigit()\n",
        "\n",
        "# Check your answer\n",
        "q1.check()"
      ],
      "metadata": {
        "trusted": true,
        "execution": {
          "iopub.status.busy": "2025-02-21T09:43:02.605104Z",
          "iopub.execute_input": "2025-02-21T09:43:02.60539Z",
          "iopub.status.idle": "2025-02-21T09:43:02.614581Z",
          "shell.execute_reply.started": "2025-02-21T09:43:02.60537Z",
          "shell.execute_reply": "2025-02-21T09:43:02.613449Z"
        },
        "id": "IFtNbsJJ-c7T",
        "outputId": "3cc11bd7-1d63-43c1-96ba-357c3270b912"
      },
      "outputs": [
        {
          "output_type": "display_data",
          "data": {
            "text/plain": "<IPython.core.display.Javascript object>",
            "application/javascript": "parent.postMessage({\"jupyterEvent\": \"custom.exercise_interaction\", \"data\": {\"outcomeType\": 1, \"valueTowardsCompletion\": 0.3333333333333333, \"interactionType\": 1, \"questionType\": 2, \"questionId\": \"1_ZipValidator\", \"learnToolsVersion\": \"0.3.4\", \"failureMessage\": \"\", \"exceptionClass\": \"\", \"trace\": \"\"}}, \"*\")"
          },
          "metadata": {}
        },
        {
          "output_type": "display_data",
          "data": {
            "text/plain": "Correct",
            "text/markdown": "<span style=\"color:#33cc33\">Correct</span>"
          },
          "metadata": {}
        }
      ],
      "execution_count": null
    },
    {
      "cell_type": "code",
      "source": [
        "#q1.hint()\n",
        "#q1.solution()"
      ],
      "metadata": {
        "trusted": true,
        "execution": {
          "iopub.status.busy": "2025-02-21T09:43:07.794376Z",
          "iopub.execute_input": "2025-02-21T09:43:07.794788Z",
          "iopub.status.idle": "2025-02-21T09:43:07.799609Z",
          "shell.execute_reply.started": "2025-02-21T09:43:07.794756Z",
          "shell.execute_reply": "2025-02-21T09:43:07.797805Z"
        },
        "id": "XRN0KhiE-c7U"
      },
      "outputs": [],
      "execution_count": null
    },
    {
      "cell_type": "markdown",
      "source": [
        "# 2.\n",
        "\n",
        "A researcher has gathered thousands of news articles. But she wants to focus her attention on articles including a specific word. Complete the function below to help her filter her list of articles.\n",
        "\n",
        "Your function should meet the following criteria:\n",
        "\n",
        "- Do not include documents where the keyword string shows up only as a part of a larger word. For example, if she were looking for the keyword “closed”, you would not include the string “enclosed.”\n",
        "- She does not want you to distinguish upper case from lower case letters. So the phrase “Closed the case.” would be included when the keyword is “closed”\n",
        "- Do not let periods or commas affect what is matched. “It is closed.” would be included when the keyword is “closed”. But you can assume there are no other types of punctuation."
      ],
      "metadata": {
        "id": "8U5I1B9G-c7V"
      }
    },
    {
      "cell_type": "code",
      "source": [
        "def word_search(doc_list, keyword):\n",
        "    \"\"\"\n",
        "    Takes a list of documents (each document is a string) and a keyword.\n",
        "    Returns list of the index values into the original list for all documents\n",
        "    containing the keyword.\n",
        "\n",
        "    Example:\n",
        "    doc_list = [\"The Learn Python Challenge Casino.\", \"They bought a car\", \"Casinoville\"]\n",
        "    >>> word_search(doc_list, 'casino')\n",
        "    >>> [0]\n",
        "    \"\"\"\n",
        "    indices = []\n",
        "    for i, doc in enumerate(doc_list):\n",
        "        tokens = doc.split()\n",
        "        normalized = [token.rstrip('.,').lower() for token in tokens]\n",
        "        if keyword.lower() in normalized:\n",
        "            indices.append(i)\n",
        "    return indices\n",
        "\n",
        "# Check your answer\n",
        "q2.check()"
      ],
      "metadata": {
        "trusted": true,
        "execution": {
          "iopub.status.busy": "2025-02-21T09:43:45.549546Z",
          "iopub.execute_input": "2025-02-21T09:43:45.549992Z",
          "iopub.status.idle": "2025-02-21T09:43:45.559481Z",
          "shell.execute_reply.started": "2025-02-21T09:43:45.549961Z",
          "shell.execute_reply": "2025-02-21T09:43:45.558274Z"
        },
        "id": "0USDuz2l-c7W",
        "outputId": "dc0a0b9b-6f68-4474-aa84-7f1cba1ee0fe"
      },
      "outputs": [
        {
          "output_type": "display_data",
          "data": {
            "text/plain": "<IPython.core.display.Javascript object>",
            "application/javascript": "parent.postMessage({\"jupyterEvent\": \"custom.exercise_interaction\", \"data\": {\"outcomeType\": 1, \"valueTowardsCompletion\": 0.3333333333333333, \"interactionType\": 1, \"questionType\": 2, \"questionId\": \"2_WordSearch\", \"learnToolsVersion\": \"0.3.4\", \"failureMessage\": \"\", \"exceptionClass\": \"\", \"trace\": \"\"}}, \"*\")"
          },
          "metadata": {}
        },
        {
          "output_type": "display_data",
          "data": {
            "text/plain": "Correct",
            "text/markdown": "<span style=\"color:#33cc33\">Correct</span>"
          },
          "metadata": {}
        }
      ],
      "execution_count": null
    },
    {
      "cell_type": "code",
      "source": [
        "#q2.hint()\n",
        "#q2.solution()"
      ],
      "metadata": {
        "trusted": true,
        "execution": {
          "iopub.status.busy": "2025-02-21T09:43:43.695077Z",
          "iopub.execute_input": "2025-02-21T09:43:43.695554Z",
          "iopub.status.idle": "2025-02-21T09:43:43.700369Z",
          "shell.execute_reply.started": "2025-02-21T09:43:43.695515Z",
          "shell.execute_reply": "2025-02-21T09:43:43.698917Z"
        },
        "id": "e-e4PTI6-c7X"
      },
      "outputs": [],
      "execution_count": null
    },
    {
      "cell_type": "markdown",
      "source": [
        "# 3.\n",
        "\n",
        "Now the researcher wants to supply multiple keywords to search for. Complete the function below to help her.\n",
        "\n",
        "(You're encouraged to use the `word_search` function you just wrote when implementing this function. Reusing code in this way makes your programs more robust and readable - and it saves typing!)"
      ],
      "metadata": {
        "id": "q8T3RSlR-c7Y"
      }
    },
    {
      "cell_type": "code",
      "source": [
        "def multi_word_search(documents, keywords):\n",
        "    \"\"\"\n",
        "    Takes list of documents (each document is a string) and a list of keywords.\n",
        "    Returns a dictionary where each key is a keyword, and the value is a list of indices\n",
        "    (from doc_list) of the documents containing that keyword\n",
        "\n",
        "    >>> doc_list = [\"The Learn Python Challenge Casino.\", \"They bought a car and a casino\", \"Casinoville\"]\n",
        "    >>> keywords = ['casino', 'they']\n",
        "    >>> multi_word_search(doc_list, keywords)\n",
        "    {'casino': [0, 1], 'they': [1]}\n",
        "    \"\"\"\n",
        "    keyword_to_indices = {}\n",
        "    for keyword in keywords:\n",
        "        keyword_to_indices[keyword] = word_search(documents, keyword)\n",
        "    return keyword_to_indices\n",
        "\n",
        "# Check your answer\n",
        "q3.check()"
      ],
      "metadata": {
        "trusted": true,
        "execution": {
          "iopub.status.busy": "2025-02-21T09:46:07.859308Z",
          "iopub.execute_input": "2025-02-21T09:46:07.859669Z",
          "iopub.status.idle": "2025-02-21T09:46:07.872262Z",
          "shell.execute_reply.started": "2025-02-21T09:46:07.859639Z",
          "shell.execute_reply": "2025-02-21T09:46:07.870162Z"
        },
        "id": "Ihz16w8e-c7Y",
        "outputId": "28a147f4-ae16-45da-f1c1-61aa753bec56"
      },
      "outputs": [
        {
          "output_type": "display_data",
          "data": {
            "text/plain": "<IPython.core.display.Javascript object>",
            "application/javascript": "parent.postMessage({\"jupyterEvent\": \"custom.exercise_interaction\", \"data\": {\"outcomeType\": 1, \"valueTowardsCompletion\": 0.3333333333333333, \"interactionType\": 1, \"questionType\": 2, \"questionId\": \"3_MultiWordSearch\", \"learnToolsVersion\": \"0.3.4\", \"failureMessage\": \"\", \"exceptionClass\": \"\", \"trace\": \"\"}}, \"*\")"
          },
          "metadata": {}
        },
        {
          "output_type": "display_data",
          "data": {
            "text/plain": "Correct",
            "text/markdown": "<span style=\"color:#33cc33\">Correct</span>"
          },
          "metadata": {}
        }
      ],
      "execution_count": null
    },
    {
      "cell_type": "code",
      "source": [
        "#q3.solution()"
      ],
      "metadata": {
        "trusted": true,
        "execution": {
          "iopub.status.busy": "2025-02-21T09:46:04.84927Z",
          "iopub.execute_input": "2025-02-21T09:46:04.849614Z",
          "iopub.status.idle": "2025-02-21T09:46:04.85411Z",
          "shell.execute_reply.started": "2025-02-21T09:46:04.849587Z",
          "shell.execute_reply": "2025-02-21T09:46:04.853123Z"
        },
        "id": "V2HbtkTK-c7Z"
      },
      "outputs": [],
      "execution_count": null
    },
    {
      "cell_type": "markdown",
      "source": [
        "# Keep Going\n",
        "\n",
        "You've learned a lot. But even the best programmers rely heavily on \"libraries\" of code from other programmers. You'll learn about that in **[the last lesson](https://www.kaggle.com/colinmorris/working-with-external-libraries)**.\n"
      ],
      "metadata": {
        "id": "yPkBdj4x-c7a"
      }
    },
    {
      "cell_type": "markdown",
      "source": [
        "---\n",
        "\n",
        "\n",
        "\n",
        "\n",
        "*Have questions or comments? Visit the [course discussion forum](https://www.kaggle.com/learn/python/discussion) to chat with other learners.*"
      ],
      "metadata": {
        "id": "_Eqz9Gu--c7a"
      }
    }
  ]
}
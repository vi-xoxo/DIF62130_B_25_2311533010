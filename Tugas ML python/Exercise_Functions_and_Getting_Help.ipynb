{
  "metadata": {
    "kernelspec": {
      "display_name": "Python 3",
      "language": "python",
      "name": "python3"
    },
    "language_info": {
      "name": "python",
      "version": "3.10.12",
      "mimetype": "text/x-python",
      "codemirror_mode": {
        "name": "ipython",
        "version": 3
      },
      "pygments_lexer": "ipython3",
      "nbconvert_exporter": "python",
      "file_extension": ".py"
    },
    "learntools_metadata": {
      "lesson_index": 1,
      "type": "exercise"
    },
    "kaggle": {
      "accelerator": "none",
      "dataSources": [],
      "isInternetEnabled": false,
      "language": "python",
      "sourceType": "notebook",
      "isGpuEnabled": false
    },
    "colab": {
      "name": "Exercise: Functions and Getting Help",
      "provenance": []
    }
  },
  "nbformat_minor": 0,
  "nbformat": 4,
  "cells": [
    {
      "cell_type": "markdown",
      "source": [
        "**This notebook is an exercise in the [Python](https://www.kaggle.com/learn/python) course.  You can reference the tutorial at [this link](https://www.kaggle.com/colinmorris/functions-and-getting-help).**\n",
        "\n",
        "---\n"
      ],
      "metadata": {
        "id": "yBghAOCi-ZKG"
      }
    },
    {
      "cell_type": "markdown",
      "source": [
        "Functions are powerful. Try writing some yourself.\n",
        "\n",
        "As before, don't forget to run the setup code below before jumping into question 1."
      ],
      "metadata": {
        "id": "BbFy7SNk-ZKO"
      }
    },
    {
      "cell_type": "code",
      "source": [
        "# SETUP. You don't need to worry for now about what this code does or how it works.\n",
        "from learntools.core import binder; binder.bind(globals())\n",
        "from learntools.python.ex2 import *\n",
        "print('Setup complete.')"
      ],
      "metadata": {
        "_kg_hide-input": true,
        "_kg_hide-output": true,
        "trusted": true,
        "execution": {
          "iopub.status.busy": "2025-02-21T08:49:33.29923Z",
          "iopub.execute_input": "2025-02-21T08:49:33.299643Z",
          "iopub.status.idle": "2025-02-21T08:49:33.748949Z",
          "shell.execute_reply.started": "2025-02-21T08:49:33.299581Z",
          "shell.execute_reply": "2025-02-21T08:49:33.747671Z"
        },
        "id": "60-0yV0n-ZKR",
        "outputId": "29324540-2f34-48ad-e79a-6f3284c2d176"
      },
      "outputs": [
        {
          "name": "stdout",
          "text": "Setup complete.\n",
          "output_type": "stream"
        }
      ],
      "execution_count": null
    },
    {
      "cell_type": "markdown",
      "source": [
        "# 1.\n",
        "\n",
        "Complete the body of the following function according to its docstring.\n",
        "\n",
        "HINT: Python has a built-in function `round`."
      ],
      "metadata": {
        "id": "qry0DI6y-ZKY"
      }
    },
    {
      "cell_type": "code",
      "source": [
        "def round_to_two_places(num):\n",
        "    \"\"\"Return the given number rounded to two decimal places.\n",
        "\n",
        "    >>> round_to_two_places(3.14159)\n",
        "    3.14\n",
        "    \"\"\"\n",
        "    return round(num, 2)\n",
        "    # Replace this body with your own code.\n",
        "    # (\"pass\" is a keyword that does literally nothing. We used it as a placeholder\n",
        "    # because after we begin a code block, Python requires at least one line of code)\n",
        "    pass\n",
        "# Check your answer\n",
        "q1.check()"
      ],
      "metadata": {
        "trusted": true,
        "execution": {
          "iopub.status.busy": "2025-02-21T08:51:46.043356Z",
          "iopub.execute_input": "2025-02-21T08:51:46.043756Z",
          "iopub.status.idle": "2025-02-21T08:51:46.053921Z",
          "shell.execute_reply.started": "2025-02-21T08:51:46.043724Z",
          "shell.execute_reply": "2025-02-21T08:51:46.052151Z"
        },
        "id": "HeiaGqOx-ZKZ",
        "outputId": "b8a87e23-1a12-4ce2-dab1-0bb02b2cf2b1"
      },
      "outputs": [
        {
          "output_type": "display_data",
          "data": {
            "text/plain": "<IPython.core.display.Javascript object>",
            "application/javascript": "parent.postMessage({\"jupyterEvent\": \"custom.exercise_interaction\", \"data\": {\"outcomeType\": 1, \"valueTowardsCompletion\": 0.16666666666666666, \"interactionType\": 1, \"questionType\": 2, \"questionId\": \"1_RoundFunctionProblem\", \"learnToolsVersion\": \"0.3.4\", \"failureMessage\": \"\", \"exceptionClass\": \"\", \"trace\": \"\"}}, \"*\")"
          },
          "metadata": {}
        },
        {
          "output_type": "display_data",
          "data": {
            "text/plain": "Correct",
            "text/markdown": "<span style=\"color:#33cc33\">Correct</span>"
          },
          "metadata": {}
        }
      ],
      "execution_count": null
    },
    {
      "cell_type": "code",
      "source": [
        "# Uncomment the following for a hint\n",
        "#q1.hint()\n",
        "# Or uncomment the following to peek at the solution\n",
        "# q1.solution()"
      ],
      "metadata": {
        "trusted": true,
        "execution": {
          "iopub.status.busy": "2025-02-21T10:04:10.577853Z",
          "iopub.execute_input": "2025-02-21T10:04:10.578165Z",
          "iopub.status.idle": "2025-02-21T10:04:10.592712Z",
          "shell.execute_reply.started": "2025-02-21T10:04:10.578138Z",
          "shell.execute_reply": "2025-02-21T10:04:10.591592Z"
        },
        "id": "xLCykS2W-ZKb"
      },
      "outputs": [],
      "execution_count": null
    },
    {
      "cell_type": "markdown",
      "source": [
        "# 2.\n",
        "The help for `round` says that `ndigits` (the second argument) may be negative.\n",
        "What do you think will happen when it is? Try some examples in the following cell."
      ],
      "metadata": {
        "id": "Chg_DJbY-ZKe"
      }
    },
    {
      "cell_type": "code",
      "source": [
        "# Put your test code here\n",
        "print(round(1234.567, -1))\n",
        "print(round(1234.567, -2))\n",
        "print(round(1234.567, -3))\n",
        "print(round(98765, -2))"
      ],
      "metadata": {
        "trusted": true,
        "execution": {
          "iopub.status.busy": "2025-02-21T08:58:25.784029Z",
          "iopub.execute_input": "2025-02-21T08:58:25.784412Z",
          "iopub.status.idle": "2025-02-21T08:58:25.791882Z",
          "shell.execute_reply.started": "2025-02-21T08:58:25.784372Z",
          "shell.execute_reply": "2025-02-21T08:58:25.790765Z"
        },
        "id": "YqUY64mt-ZKf",
        "outputId": "d94cad6f-eada-4759-c21b-5861466a8418"
      },
      "outputs": [
        {
          "name": "stdout",
          "text": "1230.0\n1200.0\n1000.0\n98800\n",
          "output_type": "stream"
        }
      ],
      "execution_count": null
    },
    {
      "cell_type": "markdown",
      "source": [
        "Can you think of a case where this would be useful?  Once you're ready, run the code cell below to see the answer and to receive credit for completing the problem."
      ],
      "metadata": {
        "id": "Rn5VtOGc-ZKh"
      }
    },
    {
      "cell_type": "code",
      "source": [
        "# Check your answer (Run this code cell to receive credit!)\n",
        "# q2.solution()"
      ],
      "metadata": {
        "trusted": true,
        "execution": {
          "iopub.status.busy": "2025-02-21T10:04:10.594372Z",
          "iopub.execute_input": "2025-02-21T10:04:10.594854Z",
          "iopub.status.idle": "2025-02-21T10:04:10.609181Z",
          "shell.execute_reply.started": "2025-02-21T10:04:10.594783Z",
          "shell.execute_reply": "2025-02-21T10:04:10.608119Z"
        },
        "id": "qAYUUA6a-ZKi"
      },
      "outputs": [],
      "execution_count": null
    },
    {
      "cell_type": "markdown",
      "source": [
        "# 3.\n",
        "\n",
        "In the previous exercise, the candy-sharing friends Alice, Bob and Carol tried to split candies evenly. For the sake of their friendship, any candies left over would be smashed. For example, if they collectively bring home 91 candies, they'll take 30 each and smash 1.\n",
        "\n",
        "Below is a simple function that will calculate the number of candies to smash for *any* number of total candies.\n",
        "\n",
        "Modify it so that it optionally takes a second argument representing the number of friends the candies are being split between. If no second argument is provided, it should assume 3 friends, as before.\n",
        "\n",
        "Update the docstring to reflect this new behaviour."
      ],
      "metadata": {
        "id": "rzs-5YZr-ZKj"
      }
    },
    {
      "cell_type": "code",
      "source": [
        "def to_smash(total_candies, n_friends=3):\n",
        "    \"\"\"Return the number of leftover candies that must be smashed after distributing\n",
        "    the given number of candies evenly between 3 friends.\n",
        "\n",
        "    >>> to_smash(91)\n",
        "    1\n",
        "    \"\"\"\n",
        "    return total_candies % n_friends\n",
        "\n",
        "# Check your answer\n",
        "q3.check()"
      ],
      "metadata": {
        "trusted": true,
        "execution": {
          "iopub.status.busy": "2025-02-21T08:59:56.319202Z",
          "iopub.execute_input": "2025-02-21T08:59:56.319605Z",
          "iopub.status.idle": "2025-02-21T08:59:56.328322Z",
          "shell.execute_reply.started": "2025-02-21T08:59:56.319568Z",
          "shell.execute_reply": "2025-02-21T08:59:56.327239Z"
        },
        "id": "sL_urd8h-ZKk",
        "outputId": "13a6efc4-0498-4f43-a945-e2aec56f6f09"
      },
      "outputs": [
        {
          "output_type": "display_data",
          "data": {
            "text/plain": "<IPython.core.display.Javascript object>",
            "application/javascript": "parent.postMessage({\"jupyterEvent\": \"custom.exercise_interaction\", \"data\": {\"outcomeType\": 1, \"valueTowardsCompletion\": 0.16666666666666666, \"interactionType\": 1, \"questionType\": 2, \"questionId\": \"3_CandySmashingFunctionProblem\", \"learnToolsVersion\": \"0.3.4\", \"failureMessage\": \"\", \"exceptionClass\": \"\", \"trace\": \"\"}}, \"*\")"
          },
          "metadata": {}
        },
        {
          "output_type": "display_data",
          "data": {
            "text/plain": "Correct",
            "text/markdown": "<span style=\"color:#33cc33\">Correct</span>"
          },
          "metadata": {}
        }
      ],
      "execution_count": null
    },
    {
      "cell_type": "code",
      "source": [
        "#q3.hint()"
      ],
      "metadata": {
        "id": "eXP9mBHV-ZKl"
      },
      "outputs": [],
      "execution_count": null
    },
    {
      "cell_type": "code",
      "source": [
        "#q3.solution()"
      ],
      "metadata": {
        "trusted": true,
        "execution": {
          "iopub.status.busy": "2025-02-21T10:04:10.610553Z",
          "iopub.execute_input": "2025-02-21T10:04:10.610931Z",
          "iopub.status.idle": "2025-02-21T10:04:10.625422Z",
          "shell.execute_reply.started": "2025-02-21T10:04:10.610893Z",
          "shell.execute_reply": "2025-02-21T10:04:10.624189Z"
        },
        "id": "OApZYlsk-ZKm"
      },
      "outputs": [],
      "execution_count": null
    },
    {
      "cell_type": "markdown",
      "source": [
        "# 4. (Optional)\n",
        "\n",
        "It may not be fun, but reading and understanding error messages will be an important part of your Python career.\n",
        "\n",
        "Each code cell below contains some commented buggy code. For each cell...\n",
        "\n",
        "1. Read the code and predict what you think will happen when it's run.\n",
        "2. Then uncomment the code and run it to see what happens. (**Tip**: In the kernel editor, you can highlight several lines and press `ctrl`+`/` to toggle commenting.)\n",
        "3. Fix the code (so that it accomplishes its intended purpose without throwing an exception)\n",
        "\n",
        "<!-- TODO: should this be autochecked? Delta is probably pretty small. -->"
      ],
      "metadata": {
        "id": "4Ik6WtjQ-ZKo"
      }
    },
    {
      "cell_type": "code",
      "source": [
        "round_to_two_places(9.9999)"
      ],
      "metadata": {
        "trusted": true,
        "execution": {
          "iopub.status.busy": "2025-02-21T09:00:37.223981Z",
          "iopub.execute_input": "2025-02-21T09:00:37.224301Z",
          "iopub.status.idle": "2025-02-21T09:00:37.230735Z",
          "shell.execute_reply.started": "2025-02-21T09:00:37.224275Z",
          "shell.execute_reply": "2025-02-21T09:00:37.229286Z"
        },
        "id": "FbvwF4bu-ZKp",
        "outputId": "8d7a8b7f-98c1-4c65-a099-65a3541beaeb"
      },
      "outputs": [
        {
          "execution_count": 24,
          "output_type": "execute_result",
          "data": {
            "text/plain": "10.0"
          },
          "metadata": {}
        }
      ],
      "execution_count": null
    },
    {
      "cell_type": "code",
      "source": [
        "x = -10\n",
        "y = 5\n",
        "# Which of the two variables above has the smallest absolute value?\n",
        "smallest_abs = min(abs(x), abs(y))\n",
        "\n",
        "print(smallest_abs)"
      ],
      "metadata": {
        "trusted": true,
        "execution": {
          "iopub.status.busy": "2025-02-21T09:02:28.838981Z",
          "iopub.execute_input": "2025-02-21T09:02:28.839314Z",
          "iopub.status.idle": "2025-02-21T09:02:28.845311Z",
          "shell.execute_reply.started": "2025-02-21T09:02:28.83929Z",
          "shell.execute_reply": "2025-02-21T09:02:28.84393Z"
        },
        "id": "cDy3yR0v-ZKq",
        "outputId": "ccde47c0-9dab-470f-f478-89be8d27b11a"
      },
      "outputs": [
        {
          "name": "stdout",
          "text": "5\n",
          "output_type": "stream"
        }
      ],
      "execution_count": null
    },
    {
      "cell_type": "code",
      "source": [
        "def f(x):\n",
        "    y = abs(x)\n",
        "    return y\n",
        "\n",
        "print(f(5))\n",
        "print(f(-10))"
      ],
      "metadata": {
        "trusted": true,
        "execution": {
          "iopub.status.busy": "2025-02-21T09:04:01.818987Z",
          "iopub.execute_input": "2025-02-21T09:04:01.819312Z",
          "iopub.status.idle": "2025-02-21T09:04:01.826148Z",
          "shell.execute_reply.started": "2025-02-21T09:04:01.819288Z",
          "shell.execute_reply": "2025-02-21T09:04:01.82446Z"
        },
        "id": "kOHkGHqo-ZKr",
        "outputId": "fe9beae3-0396-458f-b5ad-04f26d972525"
      },
      "outputs": [
        {
          "name": "stdout",
          "text": "5\n10\n",
          "output_type": "stream"
        }
      ],
      "execution_count": null
    },
    {
      "cell_type": "markdown",
      "source": [
        "# Keep Going\n",
        "\n",
        "Nice job with the code. Next up, you'll learn about *conditionals*, which you'll need to **[write interesting programs](https://www.kaggle.com/colinmorris/booleans-and-conditionals)**."
      ],
      "metadata": {
        "id": "Zmp4QEuJ-ZKt"
      }
    },
    {
      "cell_type": "markdown",
      "source": [
        "---\n",
        "\n",
        "\n",
        "\n",
        "\n",
        "*Have questions or comments? Visit the [course discussion forum](https://www.kaggle.com/learn/python/discussion) to chat with other learners.*"
      ],
      "metadata": {
        "id": "Ng4EXsCr-ZKt"
      }
    }
  ]
}